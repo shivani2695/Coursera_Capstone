{
  "nbformat": 4,
  "nbformat_minor": 0,
  "metadata": {
    "colab": {
      "name": "Untitled2.ipynb",
      "provenance": [],
      "authorship_tag": "ABX9TyNQiUv/fqXLQOFKvQs+TIH1"
    },
    "kernelspec": {
      "name": "python3",
      "display_name": "Python 3"
    }
  },
  "cells": [
    {
      "cell_type": "code",
      "metadata": {
        "id": "2IEfgt7HuxsN",
        "colab_type": "code",
        "colab": {
          "base_uri": "https://localhost:8080/",
          "height": 445
        },
        "outputId": "41d9783d-da08-4573-bb90-e7038529bc70"
      },
      "source": [
        "!pip install flask-ngrok\n",
        "!pip install app"
      ],
      "execution_count": 1,
      "outputs": [
        {
          "output_type": "stream",
          "text": [
            "Collecting flask-ngrok\n",
            "  Downloading https://files.pythonhosted.org/packages/af/6c/f54cb686ad1129e27d125d182f90f52b32f284e6c8df58c1bae54fa1adbc/flask_ngrok-0.0.25-py3-none-any.whl\n",
            "Requirement already satisfied: Flask>=0.8 in /usr/local/lib/python3.6/dist-packages (from flask-ngrok) (1.1.2)\n",
            "Requirement already satisfied: requests in /usr/local/lib/python3.6/dist-packages (from flask-ngrok) (2.23.0)\n",
            "Requirement already satisfied: click>=5.1 in /usr/local/lib/python3.6/dist-packages (from Flask>=0.8->flask-ngrok) (7.1.2)\n",
            "Requirement already satisfied: Werkzeug>=0.15 in /usr/local/lib/python3.6/dist-packages (from Flask>=0.8->flask-ngrok) (1.0.1)\n",
            "Requirement already satisfied: itsdangerous>=0.24 in /usr/local/lib/python3.6/dist-packages (from Flask>=0.8->flask-ngrok) (1.1.0)\n",
            "Requirement already satisfied: Jinja2>=2.10.1 in /usr/local/lib/python3.6/dist-packages (from Flask>=0.8->flask-ngrok) (2.11.2)\n",
            "Requirement already satisfied: chardet<4,>=3.0.2 in /usr/local/lib/python3.6/dist-packages (from requests->flask-ngrok) (3.0.4)\n",
            "Requirement already satisfied: certifi>=2017.4.17 in /usr/local/lib/python3.6/dist-packages (from requests->flask-ngrok) (2020.6.20)\n",
            "Requirement already satisfied: urllib3!=1.25.0,!=1.25.1,<1.26,>=1.21.1 in /usr/local/lib/python3.6/dist-packages (from requests->flask-ngrok) (1.24.3)\n",
            "Requirement already satisfied: idna<3,>=2.5 in /usr/local/lib/python3.6/dist-packages (from requests->flask-ngrok) (2.10)\n",
            "Requirement already satisfied: MarkupSafe>=0.23 in /usr/local/lib/python3.6/dist-packages (from Jinja2>=2.10.1->Flask>=0.8->flask-ngrok) (1.1.1)\n",
            "Installing collected packages: flask-ngrok\n",
            "Successfully installed flask-ngrok-0.0.25\n",
            "Collecting app\n",
            "  Downloading https://files.pythonhosted.org/packages/76/11/f386fe5dedd254167f16cca77427eeb6ac0918e344ae881bcdec8057b3d5/app-0.0.1.zip\n",
            "Building wheels for collected packages: app\n",
            "  Building wheel for app (setup.py) ... \u001b[?25l\u001b[?25hdone\n",
            "  Created wheel for app: filename=app-0.0.1-cp36-none-any.whl size=1519 sha256=3664a7fb8f3fe8636d041caa93f8e06ad851c0208b99b08694dbe1cc38db182f\n",
            "  Stored in directory: /root/.cache/pip/wheels/9c/ab/d2/9a121974bb3f903f8d57e5fe98056d08d367e60e0c32e0f606\n",
            "Successfully built app\n",
            "Installing collected packages: app\n",
            "Successfully installed app-0.0.1\n"
          ],
          "name": "stdout"
        }
      ]
    },
    {
      "cell_type": "code",
      "metadata": {
        "id": "9VV3dbDbwMHV",
        "colab_type": "code",
        "colab": {}
      },
      "source": [
        "from flask_ngrok import run_with_ngrok\n",
        "from flask import Flask\n",
        "import app\n",
        "from flask import request, render_template, redirect"
      ],
      "execution_count": 1,
      "outputs": []
    },
    {
      "cell_type": "code",
      "metadata": {
        "id": "MFaEnBu7wUt1",
        "colab_type": "code",
        "colab": {}
      },
      "source": [
        "import pandas as pd\n",
        "import numpy as np\n",
        "from sklearn.model_selection import train_test_split\n",
        "from sklearn import preprocessing"
      ],
      "execution_count": 2,
      "outputs": []
    },
    {
      "cell_type": "code",
      "metadata": {
        "id": "A2Ba5Tpq19Vm",
        "colab_type": "code",
        "colab": {}
      },
      "source": [
        "df = pd.read_csv(\"Transform-Data-1.csv\")\n",
        "Feature = df[['ROADCOND','LIGHTCOND','WEATHER','dayofweek']]\n",
        "X = Feature\n",
        "X= preprocessing.StandardScaler().fit(X).transform(X)\n",
        "y = df['SEVERITYCODE'].values"
      ],
      "execution_count": 3,
      "outputs": []
    },
    {
      "cell_type": "code",
      "metadata": {
        "id": "yN4yI84Y1fdR",
        "colab_type": "code",
        "colab": {
          "base_uri": "https://localhost:8080/",
          "height": 51
        },
        "outputId": "5829ecba-76a9-450c-dc0a-0552ea49bbda"
      },
      "source": [
        "X_train, X_test, y_train, y_test = train_test_split( X, y, test_size=0.4, random_state=1)\n",
        "print ('Train set:', X_train.shape,  y_train.shape)\n",
        "print ('Test set:', X_test.shape,  y_test.shape)"
      ],
      "execution_count": 4,
      "outputs": [
        {
          "output_type": "stream",
          "text": [
            "Train set: (99725, 4) (99725,)\n",
            "Test set: (66484, 4) (66484,)\n"
          ],
          "name": "stdout"
        }
      ]
    },
    {
      "cell_type": "code",
      "metadata": {
        "id": "1hK6rhR91lwl",
        "colab_type": "code",
        "colab": {
          "base_uri": "https://localhost:8080/",
          "height": 88
        },
        "outputId": "7e50dca6-540b-4a3c-ea0b-ad2e4a817295"
      },
      "source": [
        "from sklearn.neighbors import KNeighborsClassifier\n",
        "from sklearn import metrics\n",
        "from sklearn.metrics import jaccard_similarity_score\n",
        "neigh = KNeighborsClassifier(n_neighbors = 4).fit(X_train,y_train)\n",
        "yhat=neigh.predict(X_test)\n",
        "jaccard_similarity_score(y_test, yhat)"
      ],
      "execution_count": 5,
      "outputs": [
        {
          "output_type": "stream",
          "text": [
            "/usr/local/lib/python3.6/dist-packages/sklearn/metrics/_classification.py:664: FutureWarning: jaccard_similarity_score has been deprecated and replaced with jaccard_score. It will be removed in version 0.23. This implementation has surprising behavior for binary and multiclass classification tasks.\n",
            "  FutureWarning)\n"
          ],
          "name": "stderr"
        },
        {
          "output_type": "execute_result",
          "data": {
            "text/plain": [
              "0.6321821791709283"
            ]
          },
          "metadata": {
            "tags": []
          },
          "execution_count": 5
        }
      ]
    },
    {
      "cell_type": "code",
      "metadata": {
        "id": "uUlDxwWR7mnm",
        "colab_type": "code",
        "colab": {}
      },
      "source": [
        "from sklearn.naive_bayes import GaussianNB\n",
        "gnb =GaussianNB()"
      ],
      "execution_count": 6,
      "outputs": []
    },
    {
      "cell_type": "code",
      "metadata": {
        "id": "RvLj3kLz8ik_",
        "colab_type": "code",
        "colab": {
          "base_uri": "https://localhost:8080/",
          "height": 34
        },
        "outputId": "b50556d6-f4c8-4ef9-94dc-f5db9296894d"
      },
      "source": [
        "gnb.fit(X_train,y_train)\n",
        "y1 = gnb.predict(X_test)\n",
        "print(\"DecisionTrees's Accuracy: \", metrics.accuracy_score(y_test, y1))"
      ],
      "execution_count": 17,
      "outputs": [
        {
          "output_type": "stream",
          "text": [
            "DecisionTrees's Accuracy:  0.671299360247077\n"
          ],
          "name": "stdout"
        }
      ]
    },
    {
      "cell_type": "markdown",
      "metadata": {
        "id": "fnMjQXSk-E8C",
        "colab_type": "text"
      },
      "source": [
        ""
      ]
    },
    {
      "cell_type": "markdown",
      "metadata": {
        "id": "sLgrt3Ae-IfP",
        "colab_type": "text"
      },
      "source": [
        "we check the prediction accuracy with various classification algorithms and the most efficient in tearms of time and prediction was KNN-k nearest neighbour so I have used KNN for creating basic Flask API for model deployment."
      ]
    },
    {
      "cell_type": "code",
      "metadata": {
        "id": "ifQ2OR3dDmPD",
        "colab_type": "code",
        "colab": {}
      },
      "source": [
        "app = Flask(__name__)\n",
        "run_with_ngrok(app)\n",
        "\n",
        "\n",
        "@app.route(\"/\")\n",
        "def index():\n",
        "  return (\"\"\" Please Enter the values after ngrok.io with / eg :- ---ngrok.io/0/1/5/6 for all the values that are needed in prediction\n",
        "              The values that are need for prediction are 1.RoadCondition 2.LightCondition 3.WeatherCondition and 4.Day of the week\n",
        "              For Road Condition please follow below conversions:-\n",
        "                 a.Dry - 0\n",
        "                 b.Wet - 1\n",
        "                 c.Ice - 2\n",
        "                 d.Snow/Slush - 3\n",
        "                 e.Standing Water - 4\n",
        "                 f.Sand/Mud/Dirt - 5\n",
        "                 g.Oil - 6\n",
        "              For Light Condition please follow below conversions:-\n",
        "                 a.Daylight - 0\n",
        "                 b.Dark - Street Lights On - 2 \n",
        "                 c.Dusk - 3\n",
        "                 d.Dawn - 4\n",
        "                 e.Dark - Street Lights Off - 5\n",
        "              For Weather Condition please follow below conversions:-\n",
        "                 a.Clear - 0\n",
        "                 b.Raining - 1\n",
        "                 c.Overcast - 2\n",
        "                 d.Snowing - 3\n",
        "                 e.Fog/Smog/Smoke - 4\n",
        "                 f.Sleet/Hail/Freezing Rain - 5\n",
        "                 g.Blowing Sand/Dirt - 6\n",
        "                 h.Severe Crosswind - 7\n",
        "                 i.Partly Cloudy - 8\n",
        "              For Day of week please follow below conversions:-\n",
        "                 a.Monday - 0\n",
        "                 b.Tuesday - 1\n",
        "                 c.Wednesday - 2\n",
        "                 d.Thursday - 3\n",
        "                 e.Friday - 4\n",
        "                 f.Saturday - 5\n",
        "                 g.Sunday - 6\n",
        "\"\"\")\n",
        "@app.route(\"/<int:r>/<int:l>/<int:w>/<int:d>\")\n",
        "def home1(r,l,w,d):\n",
        "    y2=neigh.predict([[r,l,w,d]])\n",
        "    if y2 == 1:\n",
        "      a = \"you are less likely to meet with a sever accident, have a nice day\"\n",
        "    elif y2 == 2:\n",
        "      a = \"you are likely to meet with a sever accident, drive safely\"\n",
        "    return ((a))"
      ],
      "execution_count": 17,
      "outputs": []
    },
    {
      "cell_type": "markdown",
      "metadata": {
        "id": "jKb9yrz3QOQD",
        "colab_type": "text"
      },
      "source": [
        "click on ngrok.io link to navigate to web platform"
      ]
    },
    {
      "cell_type": "code",
      "metadata": {
        "id": "X_WXR0KENeoI",
        "colab_type": "code",
        "colab": {
          "base_uri": "https://localhost:8080/",
          "height": 204
        },
        "outputId": "e82a4160-a203-4017-d6fe-1a4f6ee283dc"
      },
      "source": [
        "app.run()"
      ],
      "execution_count": 18,
      "outputs": [
        {
          "output_type": "stream",
          "text": [
            " * Serving Flask app \"__main__\" (lazy loading)\n",
            " * Environment: production\n",
            "\u001b[31m   WARNING: This is a development server. Do not use it in a production deployment.\u001b[0m\n",
            "\u001b[2m   Use a production WSGI server instead.\u001b[0m\n",
            " * Debug mode: off\n"
          ],
          "name": "stdout"
        },
        {
          "output_type": "stream",
          "text": [
            " * Running on http://127.0.0.1:5000/ (Press CTRL+C to quit)\n"
          ],
          "name": "stderr"
        },
        {
          "output_type": "stream",
          "text": [
            " * Running on http://b96c71042f19.ngrok.io\n",
            " * Traffic stats available on http://127.0.0.1:4040\n"
          ],
          "name": "stdout"
        },
        {
          "output_type": "stream",
          "text": [
            "127.0.0.1 - - [20/Sep/2020 06:38:52] \"\u001b[37mGET / HTTP/1.1\u001b[0m\" 200 -\n",
            "127.0.0.1 - - [20/Sep/2020 06:38:53] \"\u001b[33mGET /favicon.ico HTTP/1.1\u001b[0m\" 404 -\n",
            "127.0.0.1 - - [20/Sep/2020 06:40:27] \"\u001b[37mGET /2/5/1/3 HTTP/1.1\u001b[0m\" 200 -\n"
          ],
          "name": "stderr"
        }
      ]
    },
    {
      "cell_type": "code",
      "metadata": {
        "id": "BRWMHCatP545",
        "colab_type": "code",
        "colab": {}
      },
      "source": [
        ""
      ],
      "execution_count": null,
      "outputs": []
    }
  ]
}