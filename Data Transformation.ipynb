{
    "cells": [
        {
            "cell_type": "code",
            "execution_count": null,
            "metadata": {},
            "outputs": [],
            "source": "# The code was removed by Watson Studio for sharing."
        },
        {
            "cell_type": "code",
            "execution_count": 1,
            "metadata": {},
            "outputs": [],
            "source": "import pandas as pd\nimport numpy as np\nimport types\nimport pandas as pd\nfrom botocore.client import Config"
        },
        {
            "cell_type": "code",
            "execution_count": 2,
            "metadata": {},
            "outputs": [
                {
                    "name": "stderr",
                    "output_type": "stream",
                    "text": "/opt/conda/envs/Python36/lib/python3.6/site-packages/IPython/core/interactiveshell.py:3020: DtypeWarning: Columns (33) have mixed types. Specify dtype option on import or set low_memory=False.\n  interactivity=interactivity, compiler=compiler, result=result)\n"
                },
                {
                    "data": {
                        "text/html": "<div>\n<style scoped>\n    .dataframe tbody tr th:only-of-type {\n        vertical-align: middle;\n    }\n\n    .dataframe tbody tr th {\n        vertical-align: top;\n    }\n\n    .dataframe thead th {\n        text-align: right;\n    }\n</style>\n<table border=\"1\" class=\"dataframe\">\n  <thead>\n    <tr style=\"text-align: right;\">\n      <th></th>\n      <th>SEVERITYCODE</th>\n      <th>X</th>\n      <th>Y</th>\n      <th>OBJECTID</th>\n      <th>INCKEY</th>\n      <th>COLDETKEY</th>\n      <th>REPORTNO</th>\n      <th>STATUS</th>\n      <th>ADDRTYPE</th>\n      <th>INTKEY</th>\n      <th>...</th>\n      <th>ROADCOND</th>\n      <th>LIGHTCOND</th>\n      <th>PEDROWNOTGRNT</th>\n      <th>SDOTCOLNUM</th>\n      <th>SPEEDING</th>\n      <th>ST_COLCODE</th>\n      <th>ST_COLDESC</th>\n      <th>SEGLANEKEY</th>\n      <th>CROSSWALKKEY</th>\n      <th>HITPARKEDCAR</th>\n    </tr>\n  </thead>\n  <tbody>\n    <tr>\n      <th>0</th>\n      <td>2</td>\n      <td>-122.323148</td>\n      <td>47.703140</td>\n      <td>1</td>\n      <td>1307</td>\n      <td>1307</td>\n      <td>3502005</td>\n      <td>Matched</td>\n      <td>Intersection</td>\n      <td>37475.0</td>\n      <td>...</td>\n      <td>Wet</td>\n      <td>Daylight</td>\n      <td>NaN</td>\n      <td>NaN</td>\n      <td>NaN</td>\n      <td>10</td>\n      <td>Entering at angle</td>\n      <td>0</td>\n      <td>0</td>\n      <td>N</td>\n    </tr>\n    <tr>\n      <th>1</th>\n      <td>1</td>\n      <td>-122.347294</td>\n      <td>47.647172</td>\n      <td>2</td>\n      <td>52200</td>\n      <td>52200</td>\n      <td>2607959</td>\n      <td>Matched</td>\n      <td>Block</td>\n      <td>NaN</td>\n      <td>...</td>\n      <td>Wet</td>\n      <td>Dark - Street Lights On</td>\n      <td>NaN</td>\n      <td>6354039.0</td>\n      <td>NaN</td>\n      <td>11</td>\n      <td>From same direction - both going straight - bo...</td>\n      <td>0</td>\n      <td>0</td>\n      <td>N</td>\n    </tr>\n    <tr>\n      <th>2</th>\n      <td>1</td>\n      <td>-122.334540</td>\n      <td>47.607871</td>\n      <td>3</td>\n      <td>26700</td>\n      <td>26700</td>\n      <td>1482393</td>\n      <td>Matched</td>\n      <td>Block</td>\n      <td>NaN</td>\n      <td>...</td>\n      <td>Dry</td>\n      <td>Daylight</td>\n      <td>NaN</td>\n      <td>4323031.0</td>\n      <td>NaN</td>\n      <td>32</td>\n      <td>One parked--one moving</td>\n      <td>0</td>\n      <td>0</td>\n      <td>N</td>\n    </tr>\n    <tr>\n      <th>3</th>\n      <td>1</td>\n      <td>-122.334803</td>\n      <td>47.604803</td>\n      <td>4</td>\n      <td>1144</td>\n      <td>1144</td>\n      <td>3503937</td>\n      <td>Matched</td>\n      <td>Block</td>\n      <td>NaN</td>\n      <td>...</td>\n      <td>Dry</td>\n      <td>Daylight</td>\n      <td>NaN</td>\n      <td>NaN</td>\n      <td>NaN</td>\n      <td>23</td>\n      <td>From same direction - all others</td>\n      <td>0</td>\n      <td>0</td>\n      <td>N</td>\n    </tr>\n    <tr>\n      <th>4</th>\n      <td>2</td>\n      <td>-122.306426</td>\n      <td>47.545739</td>\n      <td>5</td>\n      <td>17700</td>\n      <td>17700</td>\n      <td>1807429</td>\n      <td>Matched</td>\n      <td>Intersection</td>\n      <td>34387.0</td>\n      <td>...</td>\n      <td>Wet</td>\n      <td>Daylight</td>\n      <td>NaN</td>\n      <td>4028032.0</td>\n      <td>NaN</td>\n      <td>10</td>\n      <td>Entering at angle</td>\n      <td>0</td>\n      <td>0</td>\n      <td>N</td>\n    </tr>\n  </tbody>\n</table>\n<p>5 rows \u00d7 38 columns</p>\n</div>",
                        "text/plain": "   SEVERITYCODE           X          Y  OBJECTID  INCKEY  COLDETKEY REPORTNO  \\\n0             2 -122.323148  47.703140         1    1307       1307  3502005   \n1             1 -122.347294  47.647172         2   52200      52200  2607959   \n2             1 -122.334540  47.607871         3   26700      26700  1482393   \n3             1 -122.334803  47.604803         4    1144       1144  3503937   \n4             2 -122.306426  47.545739         5   17700      17700  1807429   \n\n    STATUS      ADDRTYPE   INTKEY  ... ROADCOND                LIGHTCOND  \\\n0  Matched  Intersection  37475.0  ...      Wet                 Daylight   \n1  Matched         Block      NaN  ...      Wet  Dark - Street Lights On   \n2  Matched         Block      NaN  ...      Dry                 Daylight   \n3  Matched         Block      NaN  ...      Dry                 Daylight   \n4  Matched  Intersection  34387.0  ...      Wet                 Daylight   \n\n  PEDROWNOTGRNT  SDOTCOLNUM SPEEDING ST_COLCODE  \\\n0           NaN         NaN      NaN         10   \n1           NaN   6354039.0      NaN         11   \n2           NaN   4323031.0      NaN         32   \n3           NaN         NaN      NaN         23   \n4           NaN   4028032.0      NaN         10   \n\n                                          ST_COLDESC  SEGLANEKEY  \\\n0                                  Entering at angle           0   \n1  From same direction - both going straight - bo...           0   \n2                             One parked--one moving           0   \n3                   From same direction - all others           0   \n4                                  Entering at angle           0   \n\n   CROSSWALKKEY  HITPARKEDCAR  \n0             0             N  \n1             0             N  \n2             0             N  \n3             0             N  \n4             0             N  \n\n[5 rows x 38 columns]"
                    },
                    "execution_count": 2,
                    "metadata": {},
                    "output_type": "execute_result"
                }
            ],
            "source": "# The code was removed by Watson Studio for sharing."
        },
        {
            "cell_type": "markdown",
            "metadata": {},
            "source": "Removing the redundant column and column which has no meaning full data "
        },
        {
            "cell_type": "code",
            "execution_count": 3,
            "metadata": {},
            "outputs": [],
            "source": "df.replace(r'^\\s*$', np.nan, regex=True)\ndf.drop(['OBJECTID','INCKEY','COLDETKEY','REPORTNO','STATUS','INTKEY','EXCEPTRSNCODE','EXCEPTRSNDESC','SEVERITYCODE.1'],axis = 1,inplace=True)\ndf.drop(['CROSSWALKKEY','SEGLANEKEY','ST_COLCODE','SPEEDING','SDOTCOLNUM','PEDROWNOTGRNT','INATTENTIONIND','SDOT_COLCODE','JUNCTIONTYPE'],axis = 1,inplace=True)"
        },
        {
            "cell_type": "code",
            "execution_count": 4,
            "metadata": {},
            "outputs": [],
            "source": "df.drop(['INCDATE'],axis = 1,inplace=True)"
        },
        {
            "cell_type": "code",
            "execution_count": 5,
            "metadata": {},
            "outputs": [
                {
                    "data": {
                        "text/html": "<div>\n<style scoped>\n    .dataframe tbody tr th:only-of-type {\n        vertical-align: middle;\n    }\n\n    .dataframe tbody tr th {\n        vertical-align: top;\n    }\n\n    .dataframe thead th {\n        text-align: right;\n    }\n</style>\n<table border=\"1\" class=\"dataframe\">\n  <thead>\n    <tr style=\"text-align: right;\">\n      <th></th>\n      <th>SEVERITYCODE</th>\n      <th>X</th>\n      <th>Y</th>\n      <th>ADDRTYPE</th>\n      <th>LOCATION</th>\n      <th>SEVERITYDESC</th>\n      <th>COLLISIONTYPE</th>\n      <th>PERSONCOUNT</th>\n      <th>PEDCOUNT</th>\n      <th>PEDCYLCOUNT</th>\n      <th>VEHCOUNT</th>\n      <th>INCDTTM</th>\n      <th>SDOT_COLDESC</th>\n      <th>UNDERINFL</th>\n      <th>WEATHER</th>\n      <th>ROADCOND</th>\n      <th>LIGHTCOND</th>\n      <th>ST_COLDESC</th>\n      <th>HITPARKEDCAR</th>\n    </tr>\n  </thead>\n  <tbody>\n    <tr>\n      <th>0</th>\n      <td>2</td>\n      <td>-122.323148</td>\n      <td>47.703140</td>\n      <td>Intersection</td>\n      <td>5TH AVE NE AND NE 103RD ST</td>\n      <td>Injury Collision</td>\n      <td>Angles</td>\n      <td>2</td>\n      <td>0</td>\n      <td>0</td>\n      <td>2</td>\n      <td>3/27/2013 2:54:00 PM</td>\n      <td>MOTOR VEHICLE STRUCK MOTOR VEHICLE, FRONT END ...</td>\n      <td>N</td>\n      <td>Overcast</td>\n      <td>Wet</td>\n      <td>Daylight</td>\n      <td>Entering at angle</td>\n      <td>N</td>\n    </tr>\n    <tr>\n      <th>1</th>\n      <td>1</td>\n      <td>-122.347294</td>\n      <td>47.647172</td>\n      <td>Block</td>\n      <td>AURORA BR BETWEEN RAYE ST AND BRIDGE WAY N</td>\n      <td>Property Damage Only Collision</td>\n      <td>Sideswipe</td>\n      <td>2</td>\n      <td>0</td>\n      <td>0</td>\n      <td>2</td>\n      <td>12/20/2006 6:55:00 PM</td>\n      <td>MOTOR VEHICLE STRUCK MOTOR VEHICLE, LEFT SIDE ...</td>\n      <td>0</td>\n      <td>Raining</td>\n      <td>Wet</td>\n      <td>Dark - Street Lights On</td>\n      <td>From same direction - both going straight - bo...</td>\n      <td>N</td>\n    </tr>\n    <tr>\n      <th>2</th>\n      <td>1</td>\n      <td>-122.334540</td>\n      <td>47.607871</td>\n      <td>Block</td>\n      <td>4TH AVE BETWEEN SENECA ST AND UNIVERSITY ST</td>\n      <td>Property Damage Only Collision</td>\n      <td>Parked Car</td>\n      <td>4</td>\n      <td>0</td>\n      <td>0</td>\n      <td>3</td>\n      <td>11/18/2004 10:20:00 AM</td>\n      <td>MOTOR VEHICLE STRUCK MOTOR VEHICLE, REAR END</td>\n      <td>0</td>\n      <td>Overcast</td>\n      <td>Dry</td>\n      <td>Daylight</td>\n      <td>One parked--one moving</td>\n      <td>N</td>\n    </tr>\n    <tr>\n      <th>3</th>\n      <td>1</td>\n      <td>-122.334803</td>\n      <td>47.604803</td>\n      <td>Block</td>\n      <td>2ND AVE BETWEEN MARION ST AND MADISON ST</td>\n      <td>Property Damage Only Collision</td>\n      <td>Other</td>\n      <td>3</td>\n      <td>0</td>\n      <td>0</td>\n      <td>3</td>\n      <td>3/29/2013 9:26:00 AM</td>\n      <td>MOTOR VEHICLE STRUCK MOTOR VEHICLE, FRONT END ...</td>\n      <td>N</td>\n      <td>Clear</td>\n      <td>Dry</td>\n      <td>Daylight</td>\n      <td>From same direction - all others</td>\n      <td>N</td>\n    </tr>\n    <tr>\n      <th>4</th>\n      <td>2</td>\n      <td>-122.306426</td>\n      <td>47.545739</td>\n      <td>Intersection</td>\n      <td>SWIFT AVE S AND SWIFT AV OFF RP</td>\n      <td>Injury Collision</td>\n      <td>Angles</td>\n      <td>2</td>\n      <td>0</td>\n      <td>0</td>\n      <td>2</td>\n      <td>1/28/2004 8:04:00 AM</td>\n      <td>MOTOR VEHICLE STRUCK MOTOR VEHICLE, FRONT END ...</td>\n      <td>0</td>\n      <td>Raining</td>\n      <td>Wet</td>\n      <td>Daylight</td>\n      <td>Entering at angle</td>\n      <td>N</td>\n    </tr>\n  </tbody>\n</table>\n</div>",
                        "text/plain": "   SEVERITYCODE           X          Y      ADDRTYPE  \\\n0             2 -122.323148  47.703140  Intersection   \n1             1 -122.347294  47.647172         Block   \n2             1 -122.334540  47.607871         Block   \n3             1 -122.334803  47.604803         Block   \n4             2 -122.306426  47.545739  Intersection   \n\n                                      LOCATION  \\\n0                   5TH AVE NE AND NE 103RD ST   \n1   AURORA BR BETWEEN RAYE ST AND BRIDGE WAY N   \n2  4TH AVE BETWEEN SENECA ST AND UNIVERSITY ST   \n3     2ND AVE BETWEEN MARION ST AND MADISON ST   \n4              SWIFT AVE S AND SWIFT AV OFF RP   \n\n                     SEVERITYDESC COLLISIONTYPE  PERSONCOUNT  PEDCOUNT  \\\n0                Injury Collision        Angles            2         0   \n1  Property Damage Only Collision     Sideswipe            2         0   \n2  Property Damage Only Collision    Parked Car            4         0   \n3  Property Damage Only Collision         Other            3         0   \n4                Injury Collision        Angles            2         0   \n\n   PEDCYLCOUNT  VEHCOUNT                 INCDTTM  \\\n0            0         2    3/27/2013 2:54:00 PM   \n1            0         2   12/20/2006 6:55:00 PM   \n2            0         3  11/18/2004 10:20:00 AM   \n3            0         3    3/29/2013 9:26:00 AM   \n4            0         2    1/28/2004 8:04:00 AM   \n\n                                        SDOT_COLDESC UNDERINFL   WEATHER  \\\n0  MOTOR VEHICLE STRUCK MOTOR VEHICLE, FRONT END ...         N  Overcast   \n1  MOTOR VEHICLE STRUCK MOTOR VEHICLE, LEFT SIDE ...         0   Raining   \n2       MOTOR VEHICLE STRUCK MOTOR VEHICLE, REAR END         0  Overcast   \n3  MOTOR VEHICLE STRUCK MOTOR VEHICLE, FRONT END ...         N     Clear   \n4  MOTOR VEHICLE STRUCK MOTOR VEHICLE, FRONT END ...         0   Raining   \n\n  ROADCOND                LIGHTCOND  \\\n0      Wet                 Daylight   \n1      Wet  Dark - Street Lights On   \n2      Dry                 Daylight   \n3      Dry                 Daylight   \n4      Wet                 Daylight   \n\n                                          ST_COLDESC HITPARKEDCAR  \n0                                  Entering at angle            N  \n1  From same direction - both going straight - bo...            N  \n2                             One parked--one moving            N  \n3                   From same direction - all others            N  \n4                                  Entering at angle            N  "
                    },
                    "execution_count": 5,
                    "metadata": {},
                    "output_type": "execute_result"
                }
            ],
            "source": "df.head()"
        },
        {
            "cell_type": "code",
            "execution_count": 7,
            "metadata": {},
            "outputs": [],
            "source": "df.drop(df[df['ROADCOND'].isnull()].index,axis = 0,inplace=True)\ndf.drop(df[df['LIGHTCOND'].isnull()].index,axis = 0,inplace=True)\ndf.drop(df[df['WEATHER'].isnull()].index,axis = 0,inplace=True)\ndf.drop(df[df['ADDRTYPE'].isnull()].index,axis = 0,inplace=True)"
        },
        {
            "cell_type": "code",
            "execution_count": 6,
            "metadata": {},
            "outputs": [
                {
                    "name": "stdout",
                    "output_type": "stream",
                    "text": "Collecting geopandas\n\u001b[?25l  Downloading https://files.pythonhosted.org/packages/f7/a4/e66aafbefcbb717813bf3a355c8c4fc3ed04ea1dd7feb2920f2f4f868921/geopandas-0.8.1-py2.py3-none-any.whl (962kB)\n\u001b[K     |\u2588\u2588\u2588\u2588\u2588\u2588\u2588\u2588\u2588\u2588\u2588\u2588\u2588\u2588\u2588\u2588\u2588\u2588\u2588\u2588\u2588\u2588\u2588\u2588\u2588\u2588\u2588\u2588\u2588\u2588\u2588\u2588| 972kB 9.3MB/s eta 0:00:01\n\u001b[?25hCollecting shapely (from geopandas)\n\u001b[?25l  Downloading https://files.pythonhosted.org/packages/9d/18/557d4f55453fe00f59807b111cc7b39ce53594e13ada88e16738fb4ff7fb/Shapely-1.7.1-cp36-cp36m-manylinux1_x86_64.whl (1.0MB)\n\u001b[K     |\u2588\u2588\u2588\u2588\u2588\u2588\u2588\u2588\u2588\u2588\u2588\u2588\u2588\u2588\u2588\u2588\u2588\u2588\u2588\u2588\u2588\u2588\u2588\u2588\u2588\u2588\u2588\u2588\u2588\u2588\u2588\u2588| 1.0MB 45.0MB/s eta 0:00:01\n\u001b[?25hCollecting pyproj>=2.2.0 (from geopandas)\n\u001b[?25l  Downloading https://files.pythonhosted.org/packages/e5/c3/071e080230ac4b6c64f1a2e2f9161c9737a2bc7b683d2c90b024825000c0/pyproj-2.6.1.post1-cp36-cp36m-manylinux2010_x86_64.whl (10.9MB)\n\u001b[K     |\u2588\u2588\u2588\u2588\u2588\u2588\u2588\u2588\u2588\u2588\u2588\u2588\u2588\u2588\u2588\u2588\u2588\u2588\u2588\u2588\u2588\u2588\u2588\u2588\u2588\u2588\u2588\u2588\u2588\u2588\u2588\u2588| 10.9MB 11.5MB/s eta 0:00:01\n\u001b[?25hCollecting fiona (from geopandas)\n\u001b[?25l  Downloading https://files.pythonhosted.org/packages/36/8b/e8b2c11bed5373c8e98edb85ce891b09aa1f4210fd451d0fb3696b7695a2/Fiona-1.8.17-cp36-cp36m-manylinux1_x86_64.whl (14.8MB)\n\u001b[K     |\u2588\u2588\u2588\u2588\u2588\u2588\u2588\u2588\u2588\u2588\u2588\u2588\u2588\u2588\u2588\u2588\u2588\u2588\u2588\u2588\u2588\u2588\u2588\u2588\u2588\u2588\u2588\u2588\u2588\u2588\u2588\u2588| 14.8MB 21.4MB/s eta 0:00:01\n\u001b[?25hRequirement already satisfied: pandas>=0.23.0 in /opt/conda/envs/Python36/lib/python3.6/site-packages (from geopandas) (0.24.1)\nRequirement already satisfied: click<8,>=4.0 in /opt/conda/envs/Python36/lib/python3.6/site-packages (from fiona->geopandas) (7.0)\nCollecting click-plugins>=1.0 (from fiona->geopandas)\n  Downloading https://files.pythonhosted.org/packages/e9/da/824b92d9942f4e472702488857914bdd50f73021efea15b4cad9aca8ecef/click_plugins-1.1.1-py2.py3-none-any.whl\nRequirement already satisfied: six>=1.7 in /opt/conda/envs/Python36/lib/python3.6/site-packages (from fiona->geopandas) (1.12.0)\nCollecting cligj>=0.5 (from fiona->geopandas)\n  Downloading https://files.pythonhosted.org/packages/e4/be/30a58b4b0733850280d01f8bd132591b4668ed5c7046761098d665ac2174/cligj-0.5.0-py3-none-any.whl\nCollecting munch (from fiona->geopandas)\n  Downloading https://files.pythonhosted.org/packages/cc/ab/85d8da5c9a45e072301beb37ad7f833cd344e04c817d97e0cc75681d248f/munch-2.5.0-py2.py3-none-any.whl\nRequirement already satisfied: attrs>=17 in /opt/conda/envs/Python36/lib/python3.6/site-packages (from fiona->geopandas) (18.2.0)\nRequirement already satisfied: numpy>=1.12.0 in /opt/conda/envs/Python36/lib/python3.6/site-packages (from pandas>=0.23.0->geopandas) (1.15.4)\nRequirement already satisfied: pytz>=2011k in /opt/conda/envs/Python36/lib/python3.6/site-packages (from pandas>=0.23.0->geopandas) (2018.9)\nRequirement already satisfied: python-dateutil>=2.5.0 in /opt/conda/envs/Python36/lib/python3.6/site-packages (from pandas>=0.23.0->geopandas) (2.7.5)\nInstalling collected packages: shapely, pyproj, click-plugins, cligj, munch, fiona, geopandas\nSuccessfully installed click-plugins-1.1.1 cligj-0.5.0 fiona-1.8.17 geopandas-0.8.1 munch-2.5.0 pyproj-2.6.1.post1 shapely-1.7.1\nRequirement already satisfied: geopy in /opt/conda/envs/Python36/lib/python3.6/site-packages (1.18.1)\nRequirement already satisfied: geographiclib<2,>=1.49 in /opt/conda/envs/Python36/lib/python3.6/site-packages (from geopy) (1.49)\n"
                }
            ],
            "source": "!pip install geopandas\n!pip install geopy\nimport geopandas as gpd\nimport geopy\nfrom geopy.geocoders import Nominatim\nfrom geopy.extra.rate_limiter import RateLimiter"
        },
        {
            "cell_type": "markdown",
            "metadata": {},
            "source": "converting the X and Y co-ordinates to point from which we can find the location of city"
        },
        {
            "cell_type": "code",
            "execution_count": 19,
            "metadata": {},
            "outputs": [],
            "source": "df['Location1'] = \"\"\nlocator = Nominatim(user_agent=\"myGeocoder\")\ndf['coordinates'] = \"\"\ngeolocator = Nominatim(user_agent=\"geoapiExercises\")\ndf['coordinates'] = df[['Y','X']].apply(lambda x : '{},{}'.format(x[0],x[1]), axis=1)"
        },
        {
            "cell_type": "code",
            "execution_count": 20,
            "metadata": {},
            "outputs": [
                {
                    "data": {
                        "text/html": "<div>\n<style scoped>\n    .dataframe tbody tr th:only-of-type {\n        vertical-align: middle;\n    }\n\n    .dataframe tbody tr th {\n        vertical-align: top;\n    }\n\n    .dataframe thead th {\n        text-align: right;\n    }\n</style>\n<table border=\"1\" class=\"dataframe\">\n  <thead>\n    <tr style=\"text-align: right;\">\n      <th></th>\n      <th>SEVERITYCODE</th>\n      <th>X</th>\n      <th>Y</th>\n      <th>ADDRTYPE</th>\n      <th>LOCATION</th>\n      <th>SEVERITYDESC</th>\n      <th>COLLISIONTYPE</th>\n      <th>PERSONCOUNT</th>\n      <th>PEDCOUNT</th>\n      <th>PEDCYLCOUNT</th>\n      <th>...</th>\n      <th>INCDTTM</th>\n      <th>SDOT_COLDESC</th>\n      <th>UNDERINFL</th>\n      <th>WEATHER</th>\n      <th>ROADCOND</th>\n      <th>LIGHTCOND</th>\n      <th>ST_COLDESC</th>\n      <th>HITPARKEDCAR</th>\n      <th>Location1</th>\n      <th>coordinates</th>\n    </tr>\n  </thead>\n  <tbody>\n    <tr>\n      <th>0</th>\n      <td>2</td>\n      <td>-122.323148</td>\n      <td>47.703140</td>\n      <td>Intersection</td>\n      <td>5TH AVE NE AND NE 103RD ST</td>\n      <td>Injury Collision</td>\n      <td>Angles</td>\n      <td>2</td>\n      <td>0</td>\n      <td>0</td>\n      <td>...</td>\n      <td>3/27/2013 2:54:00 PM</td>\n      <td>MOTOR VEHICLE STRUCK MOTOR VEHICLE, FRONT END ...</td>\n      <td>N</td>\n      <td>Overcast</td>\n      <td>Wet</td>\n      <td>Daylight</td>\n      <td>Entering at angle</td>\n      <td>N</td>\n      <td></td>\n      <td>47.70314032,-122.32314840000002</td>\n    </tr>\n    <tr>\n      <th>1</th>\n      <td>1</td>\n      <td>-122.347294</td>\n      <td>47.647172</td>\n      <td>Block</td>\n      <td>AURORA BR BETWEEN RAYE ST AND BRIDGE WAY N</td>\n      <td>Property Damage Only Collision</td>\n      <td>Sideswipe</td>\n      <td>2</td>\n      <td>0</td>\n      <td>0</td>\n      <td>...</td>\n      <td>12/20/2006 6:55:00 PM</td>\n      <td>MOTOR VEHICLE STRUCK MOTOR VEHICLE, LEFT SIDE ...</td>\n      <td>0</td>\n      <td>Raining</td>\n      <td>Wet</td>\n      <td>Dark - Street Lights On</td>\n      <td>From same direction - both going straight - bo...</td>\n      <td>N</td>\n      <td></td>\n      <td>47.64717249,-122.3472943</td>\n    </tr>\n    <tr>\n      <th>2</th>\n      <td>1</td>\n      <td>-122.334540</td>\n      <td>47.607871</td>\n      <td>Block</td>\n      <td>4TH AVE BETWEEN SENECA ST AND UNIVERSITY ST</td>\n      <td>Property Damage Only Collision</td>\n      <td>Parked Car</td>\n      <td>4</td>\n      <td>0</td>\n      <td>0</td>\n      <td>...</td>\n      <td>11/18/2004 10:20:00 AM</td>\n      <td>MOTOR VEHICLE STRUCK MOTOR VEHICLE, REAR END</td>\n      <td>0</td>\n      <td>Overcast</td>\n      <td>Dry</td>\n      <td>Daylight</td>\n      <td>One parked--one moving</td>\n      <td>N</td>\n      <td></td>\n      <td>47.60787143,-122.33453999999999</td>\n    </tr>\n    <tr>\n      <th>3</th>\n      <td>1</td>\n      <td>-122.334803</td>\n      <td>47.604803</td>\n      <td>Block</td>\n      <td>2ND AVE BETWEEN MARION ST AND MADISON ST</td>\n      <td>Property Damage Only Collision</td>\n      <td>Other</td>\n      <td>3</td>\n      <td>0</td>\n      <td>0</td>\n      <td>...</td>\n      <td>3/29/2013 9:26:00 AM</td>\n      <td>MOTOR VEHICLE STRUCK MOTOR VEHICLE, FRONT END ...</td>\n      <td>N</td>\n      <td>Clear</td>\n      <td>Dry</td>\n      <td>Daylight</td>\n      <td>From same direction - all others</td>\n      <td>N</td>\n      <td></td>\n      <td>47.60480289,-122.3348033</td>\n    </tr>\n    <tr>\n      <th>4</th>\n      <td>2</td>\n      <td>-122.306426</td>\n      <td>47.545739</td>\n      <td>Intersection</td>\n      <td>SWIFT AVE S AND SWIFT AV OFF RP</td>\n      <td>Injury Collision</td>\n      <td>Angles</td>\n      <td>2</td>\n      <td>0</td>\n      <td>0</td>\n      <td>...</td>\n      <td>1/28/2004 8:04:00 AM</td>\n      <td>MOTOR VEHICLE STRUCK MOTOR VEHICLE, FRONT END ...</td>\n      <td>0</td>\n      <td>Raining</td>\n      <td>Wet</td>\n      <td>Daylight</td>\n      <td>Entering at angle</td>\n      <td>N</td>\n      <td></td>\n      <td>47.54573946,-122.3064263</td>\n    </tr>\n  </tbody>\n</table>\n<p>5 rows \u00d7 21 columns</p>\n</div>",
                        "text/plain": "   SEVERITYCODE           X          Y      ADDRTYPE  \\\n0             2 -122.323148  47.703140  Intersection   \n1             1 -122.347294  47.647172         Block   \n2             1 -122.334540  47.607871         Block   \n3             1 -122.334803  47.604803         Block   \n4             2 -122.306426  47.545739  Intersection   \n\n                                      LOCATION  \\\n0                   5TH AVE NE AND NE 103RD ST   \n1   AURORA BR BETWEEN RAYE ST AND BRIDGE WAY N   \n2  4TH AVE BETWEEN SENECA ST AND UNIVERSITY ST   \n3     2ND AVE BETWEEN MARION ST AND MADISON ST   \n4              SWIFT AVE S AND SWIFT AV OFF RP   \n\n                     SEVERITYDESC COLLISIONTYPE  PERSONCOUNT  PEDCOUNT  \\\n0                Injury Collision        Angles            2         0   \n1  Property Damage Only Collision     Sideswipe            2         0   \n2  Property Damage Only Collision    Parked Car            4         0   \n3  Property Damage Only Collision         Other            3         0   \n4                Injury Collision        Angles            2         0   \n\n   PEDCYLCOUNT  ...                 INCDTTM  \\\n0            0  ...    3/27/2013 2:54:00 PM   \n1            0  ...   12/20/2006 6:55:00 PM   \n2            0  ...  11/18/2004 10:20:00 AM   \n3            0  ...    3/29/2013 9:26:00 AM   \n4            0  ...    1/28/2004 8:04:00 AM   \n\n                                        SDOT_COLDESC UNDERINFL   WEATHER  \\\n0  MOTOR VEHICLE STRUCK MOTOR VEHICLE, FRONT END ...         N  Overcast   \n1  MOTOR VEHICLE STRUCK MOTOR VEHICLE, LEFT SIDE ...         0   Raining   \n2       MOTOR VEHICLE STRUCK MOTOR VEHICLE, REAR END         0  Overcast   \n3  MOTOR VEHICLE STRUCK MOTOR VEHICLE, FRONT END ...         N     Clear   \n4  MOTOR VEHICLE STRUCK MOTOR VEHICLE, FRONT END ...         0   Raining   \n\n  ROADCOND                LIGHTCOND  \\\n0      Wet                 Daylight   \n1      Wet  Dark - Street Lights On   \n2      Dry                 Daylight   \n3      Dry                 Daylight   \n4      Wet                 Daylight   \n\n                                          ST_COLDESC HITPARKEDCAR Location1  \\\n0                                  Entering at angle            N             \n1  From same direction - both going straight - bo...            N             \n2                             One parked--one moving            N             \n3                   From same direction - all others            N             \n4                                  Entering at angle            N             \n\n                       coordinates  \n0  47.70314032,-122.32314840000002  \n1         47.64717249,-122.3472943  \n2  47.60787143,-122.33453999999999  \n3         47.60480289,-122.3348033  \n4         47.54573946,-122.3064263  \n\n[5 rows x 21 columns]"
                    },
                    "execution_count": 20,
                    "metadata": {},
                    "output_type": "execute_result"
                }
            ],
            "source": "df.head()"
        },
        {
            "cell_type": "code",
            "execution_count": 24,
            "metadata": {},
            "outputs": [
                {
                    "ename": "ValueError",
                    "evalue": "Must be a coordinate pair or Point",
                    "output_type": "error",
                    "traceback": [
                        "\u001b[0;31m---------------------------------------------------------------------------\u001b[0m",
                        "\u001b[0;31mValueError\u001b[0m                                Traceback (most recent call last)",
                        "\u001b[0;32m/opt/conda/envs/Python36/lib/python3.6/site-packages/geopy/geocoders/osm.py\u001b[0m in \u001b[0;36mreverse\u001b[0;34m(self, query, exactly_one, timeout, language, addressdetails)\u001b[0m\n\u001b[1;32m    353\u001b[0m         \u001b[0;32mtry\u001b[0m\u001b[0;34m:\u001b[0m\u001b[0;34m\u001b[0m\u001b[0;34m\u001b[0m\u001b[0m\n\u001b[0;32m--> 354\u001b[0;31m             \u001b[0mlat\u001b[0m\u001b[0;34m,\u001b[0m \u001b[0mlon\u001b[0m \u001b[0;34m=\u001b[0m \u001b[0mself\u001b[0m\u001b[0;34m.\u001b[0m\u001b[0m_coerce_point_to_string\u001b[0m\u001b[0;34m(\u001b[0m\u001b[0mquery\u001b[0m\u001b[0;34m)\u001b[0m\u001b[0;34m.\u001b[0m\u001b[0msplit\u001b[0m\u001b[0;34m(\u001b[0m\u001b[0;34m','\u001b[0m\u001b[0;34m)\u001b[0m\u001b[0;34m\u001b[0m\u001b[0;34m\u001b[0m\u001b[0m\n\u001b[0m\u001b[1;32m    355\u001b[0m         \u001b[0;32mexcept\u001b[0m \u001b[0mValueError\u001b[0m\u001b[0;34m:\u001b[0m\u001b[0;34m\u001b[0m\u001b[0;34m\u001b[0m\u001b[0m\n",
                        "\u001b[0;32m/opt/conda/envs/Python36/lib/python3.6/site-packages/geopy/geocoders/base.py\u001b[0m in \u001b[0;36m_coerce_point_to_string\u001b[0;34m(point, output_format)\u001b[0m\n\u001b[1;32m    249\u001b[0m             \u001b[0;32mif\u001b[0m \u001b[0;32mnot\u001b[0m \u001b[0misinstance\u001b[0m\u001b[0;34m(\u001b[0m\u001b[0mpoint\u001b[0m\u001b[0;34m,\u001b[0m \u001b[0mPoint\u001b[0m\u001b[0;34m)\u001b[0m\u001b[0;34m:\u001b[0m\u001b[0;34m\u001b[0m\u001b[0;34m\u001b[0m\u001b[0m\n\u001b[0;32m--> 250\u001b[0;31m                 \u001b[0mpoint\u001b[0m \u001b[0;34m=\u001b[0m \u001b[0mPoint\u001b[0m\u001b[0;34m(\u001b[0m\u001b[0mpoint\u001b[0m\u001b[0;34m)\u001b[0m\u001b[0;34m\u001b[0m\u001b[0;34m\u001b[0m\u001b[0m\n\u001b[0m\u001b[1;32m    251\u001b[0m         \u001b[0;32mexcept\u001b[0m \u001b[0mValueError\u001b[0m \u001b[0;32mas\u001b[0m \u001b[0me\u001b[0m\u001b[0;34m:\u001b[0m\u001b[0;34m\u001b[0m\u001b[0;34m\u001b[0m\u001b[0m\n",
                        "\u001b[0;32m/opt/conda/envs/Python36/lib/python3.6/site-packages/geopy/point.py\u001b[0m in \u001b[0;36m__new__\u001b[0;34m(cls, latitude, longitude, altitude)\u001b[0m\n\u001b[1;32m    164\u001b[0m                 \u001b[0;32melse\u001b[0m\u001b[0;34m:\u001b[0m\u001b[0;34m\u001b[0m\u001b[0;34m\u001b[0m\u001b[0m\n\u001b[0;32m--> 165\u001b[0;31m                     \u001b[0;32mreturn\u001b[0m \u001b[0mcls\u001b[0m\u001b[0;34m.\u001b[0m\u001b[0mfrom_sequence\u001b[0m\u001b[0;34m(\u001b[0m\u001b[0mseq\u001b[0m\u001b[0;34m)\u001b[0m\u001b[0;34m\u001b[0m\u001b[0;34m\u001b[0m\u001b[0m\n\u001b[0m\u001b[1;32m    166\u001b[0m \u001b[0;34m\u001b[0m\u001b[0m\n",
                        "\u001b[0;32m/opt/conda/envs/Python36/lib/python3.6/site-packages/geopy/point.py\u001b[0m in \u001b[0;36mfrom_sequence\u001b[0;34m(cls, seq)\u001b[0m\n\u001b[1;32m    404\u001b[0m                              'must not have more than 3 items.')\n\u001b[0;32m--> 405\u001b[0;31m         \u001b[0;32mreturn\u001b[0m \u001b[0mcls\u001b[0m\u001b[0;34m(\u001b[0m\u001b[0;34m*\u001b[0m\u001b[0margs\u001b[0m\u001b[0;34m)\u001b[0m\u001b[0;34m\u001b[0m\u001b[0;34m\u001b[0m\u001b[0m\n\u001b[0m\u001b[1;32m    406\u001b[0m \u001b[0;34m\u001b[0m\u001b[0m\n",
                        "\u001b[0;32m/opt/conda/envs/Python36/lib/python3.6/site-packages/geopy/point.py\u001b[0m in \u001b[0;36m__new__\u001b[0;34m(cls, latitude, longitude, altitude)\u001b[0m\n\u001b[1;32m    155\u001b[0m             \u001b[0;32melif\u001b[0m \u001b[0misinstance\u001b[0m\u001b[0;34m(\u001b[0m\u001b[0marg\u001b[0m\u001b[0;34m,\u001b[0m \u001b[0mstring_compare\u001b[0m\u001b[0;34m)\u001b[0m\u001b[0;34m:\u001b[0m\u001b[0;34m\u001b[0m\u001b[0;34m\u001b[0m\u001b[0m\n\u001b[0;32m--> 156\u001b[0;31m                 \u001b[0;32mreturn\u001b[0m \u001b[0mcls\u001b[0m\u001b[0;34m.\u001b[0m\u001b[0mfrom_string\u001b[0m\u001b[0;34m(\u001b[0m\u001b[0marg\u001b[0m\u001b[0;34m)\u001b[0m\u001b[0;34m\u001b[0m\u001b[0;34m\u001b[0m\u001b[0m\n\u001b[0m\u001b[1;32m    157\u001b[0m             \u001b[0;32melse\u001b[0m\u001b[0;34m:\u001b[0m\u001b[0;34m\u001b[0m\u001b[0;34m\u001b[0m\u001b[0m\n",
                        "\u001b[0;32m/opt/conda/envs/Python36/lib/python3.6/site-packages/geopy/point.py\u001b[0m in \u001b[0;36mfrom_string\u001b[0;34m(cls, string)\u001b[0m\n\u001b[1;32m    390\u001b[0m             raise ValueError(\n\u001b[0;32m--> 391\u001b[0;31m                 \u001b[0;34m\"Failed to create Point instance from string: unknown format.\"\u001b[0m\u001b[0;34m\u001b[0m\u001b[0;34m\u001b[0m\u001b[0m\n\u001b[0m\u001b[1;32m    392\u001b[0m             )\n",
                        "\u001b[0;31mValueError\u001b[0m: Failed to create Point instance from string: unknown format.",
                        "\nDuring handling of the above exception, another exception occurred:\n",
                        "\u001b[0;31mValueError\u001b[0m                                Traceback (most recent call last)",
                        "\u001b[0;32m<ipython-input-24-b9408a3e4cd3>\u001b[0m in \u001b[0;36m<module>\u001b[0;34m\u001b[0m\n\u001b[1;32m      1\u001b[0m \u001b[0;32mfor\u001b[0m \u001b[0ma\u001b[0m \u001b[0;32min\u001b[0m \u001b[0mzip\u001b[0m\u001b[0;34m(\u001b[0m\u001b[0mdf\u001b[0m\u001b[0;34m[\u001b[0m\u001b[0;34m'coordinates'\u001b[0m\u001b[0;34m]\u001b[0m\u001b[0;34m)\u001b[0m\u001b[0;34m:\u001b[0m\u001b[0;34m\u001b[0m\u001b[0;34m\u001b[0m\u001b[0m\n\u001b[0;32m----> 2\u001b[0;31m     \u001b[0mlocation\u001b[0m \u001b[0;34m=\u001b[0m \u001b[0mgeolocator\u001b[0m\u001b[0;34m.\u001b[0m\u001b[0mreverse\u001b[0m\u001b[0;34m(\u001b[0m\u001b[0ma\u001b[0m\u001b[0;34m,\u001b[0m\u001b[0mexactly_one\u001b[0m\u001b[0;34m=\u001b[0m\u001b[0;32mTrue\u001b[0m\u001b[0;34m)\u001b[0m\u001b[0;34m\u001b[0m\u001b[0;34m\u001b[0m\u001b[0m\n\u001b[0m\u001b[1;32m      3\u001b[0m     \u001b[0maddress\u001b[0m \u001b[0;34m=\u001b[0m \u001b[0mlocation\u001b[0m\u001b[0;34m.\u001b[0m\u001b[0mraw\u001b[0m\u001b[0;34m[\u001b[0m\u001b[0;34m'address'\u001b[0m\u001b[0;34m]\u001b[0m\u001b[0;34m\u001b[0m\u001b[0;34m\u001b[0m\u001b[0m\n\u001b[1;32m      4\u001b[0m     \u001b[0mdf\u001b[0m\u001b[0;34m[\u001b[0m\u001b[0;34m'Location1'\u001b[0m\u001b[0;34m]\u001b[0m \u001b[0;34m=\u001b[0m \u001b[0maddress\u001b[0m\u001b[0;34m.\u001b[0m\u001b[0mget\u001b[0m\u001b[0;34m(\u001b[0m\u001b[0;34m'city'\u001b[0m\u001b[0;34m,\u001b[0m \u001b[0;34m''\u001b[0m\u001b[0;34m)\u001b[0m\u001b[0;34m\u001b[0m\u001b[0;34m\u001b[0m\u001b[0m\n",
                        "\u001b[0;32m/opt/conda/envs/Python36/lib/python3.6/site-packages/geopy/geocoders/osm.py\u001b[0m in \u001b[0;36mreverse\u001b[0;34m(self, query, exactly_one, timeout, language, addressdetails)\u001b[0m\n\u001b[1;32m    354\u001b[0m             \u001b[0mlat\u001b[0m\u001b[0;34m,\u001b[0m \u001b[0mlon\u001b[0m \u001b[0;34m=\u001b[0m \u001b[0mself\u001b[0m\u001b[0;34m.\u001b[0m\u001b[0m_coerce_point_to_string\u001b[0m\u001b[0;34m(\u001b[0m\u001b[0mquery\u001b[0m\u001b[0;34m)\u001b[0m\u001b[0;34m.\u001b[0m\u001b[0msplit\u001b[0m\u001b[0;34m(\u001b[0m\u001b[0;34m','\u001b[0m\u001b[0;34m)\u001b[0m\u001b[0;34m\u001b[0m\u001b[0;34m\u001b[0m\u001b[0m\n\u001b[1;32m    355\u001b[0m         \u001b[0;32mexcept\u001b[0m \u001b[0mValueError\u001b[0m\u001b[0;34m:\u001b[0m\u001b[0;34m\u001b[0m\u001b[0;34m\u001b[0m\u001b[0m\n\u001b[0;32m--> 356\u001b[0;31m             \u001b[0;32mraise\u001b[0m \u001b[0mValueError\u001b[0m\u001b[0;34m(\u001b[0m\u001b[0;34m\"Must be a coordinate pair or Point\"\u001b[0m\u001b[0;34m)\u001b[0m\u001b[0;34m\u001b[0m\u001b[0;34m\u001b[0m\u001b[0m\n\u001b[0m\u001b[1;32m    357\u001b[0m         params = {\n\u001b[1;32m    358\u001b[0m             \u001b[0;34m'lat'\u001b[0m\u001b[0;34m:\u001b[0m \u001b[0mlat\u001b[0m\u001b[0;34m,\u001b[0m\u001b[0;34m\u001b[0m\u001b[0;34m\u001b[0m\u001b[0m\n",
                        "\u001b[0;31mValueError\u001b[0m: Must be a coordinate pair or Point"
                    ]
                }
            ],
            "source": "for a in zip(df['coordinates']):\n    location = geolocator.reverse(a,exactly_one=True)\n    address = location.raw['address'] \n    df['Location1'] = address.get('city', '')"
        },
        {
            "cell_type": "code",
            "execution_count": 25,
            "metadata": {},
            "outputs": [
                {
                    "ename": "ValueError",
                    "evalue": "Must be a coordinate pair or Point",
                    "output_type": "error",
                    "traceback": [
                        "\u001b[0;31m---------------------------------------------------------------------------\u001b[0m",
                        "\u001b[0;31mValueError\u001b[0m                                Traceback (most recent call last)",
                        "\u001b[0;32m/opt/conda/envs/Python36/lib/python3.6/site-packages/geopy/geocoders/osm.py\u001b[0m in \u001b[0;36mreverse\u001b[0;34m(self, query, exactly_one, timeout, language, addressdetails)\u001b[0m\n\u001b[1;32m    353\u001b[0m         \u001b[0;32mtry\u001b[0m\u001b[0;34m:\u001b[0m\u001b[0;34m\u001b[0m\u001b[0;34m\u001b[0m\u001b[0m\n\u001b[0;32m--> 354\u001b[0;31m             \u001b[0mlat\u001b[0m\u001b[0;34m,\u001b[0m \u001b[0mlon\u001b[0m \u001b[0;34m=\u001b[0m \u001b[0mself\u001b[0m\u001b[0;34m.\u001b[0m\u001b[0m_coerce_point_to_string\u001b[0m\u001b[0;34m(\u001b[0m\u001b[0mquery\u001b[0m\u001b[0;34m)\u001b[0m\u001b[0;34m.\u001b[0m\u001b[0msplit\u001b[0m\u001b[0;34m(\u001b[0m\u001b[0;34m','\u001b[0m\u001b[0;34m)\u001b[0m\u001b[0;34m\u001b[0m\u001b[0;34m\u001b[0m\u001b[0m\n\u001b[0m\u001b[1;32m    355\u001b[0m         \u001b[0;32mexcept\u001b[0m \u001b[0mValueError\u001b[0m\u001b[0;34m:\u001b[0m\u001b[0;34m\u001b[0m\u001b[0;34m\u001b[0m\u001b[0m\n",
                        "\u001b[0;32m/opt/conda/envs/Python36/lib/python3.6/site-packages/geopy/geocoders/base.py\u001b[0m in \u001b[0;36m_coerce_point_to_string\u001b[0;34m(point, output_format)\u001b[0m\n\u001b[1;32m    249\u001b[0m             \u001b[0;32mif\u001b[0m \u001b[0;32mnot\u001b[0m \u001b[0misinstance\u001b[0m\u001b[0;34m(\u001b[0m\u001b[0mpoint\u001b[0m\u001b[0;34m,\u001b[0m \u001b[0mPoint\u001b[0m\u001b[0;34m)\u001b[0m\u001b[0;34m:\u001b[0m\u001b[0;34m\u001b[0m\u001b[0;34m\u001b[0m\u001b[0m\n\u001b[0;32m--> 250\u001b[0;31m                 \u001b[0mpoint\u001b[0m \u001b[0;34m=\u001b[0m \u001b[0mPoint\u001b[0m\u001b[0;34m(\u001b[0m\u001b[0mpoint\u001b[0m\u001b[0;34m)\u001b[0m\u001b[0;34m\u001b[0m\u001b[0;34m\u001b[0m\u001b[0m\n\u001b[0m\u001b[1;32m    251\u001b[0m         \u001b[0;32mexcept\u001b[0m \u001b[0mValueError\u001b[0m \u001b[0;32mas\u001b[0m \u001b[0me\u001b[0m\u001b[0;34m:\u001b[0m\u001b[0;34m\u001b[0m\u001b[0;34m\u001b[0m\u001b[0m\n",
                        "\u001b[0;32m/opt/conda/envs/Python36/lib/python3.6/site-packages/geopy/point.py\u001b[0m in \u001b[0;36m__new__\u001b[0;34m(cls, latitude, longitude, altitude)\u001b[0m\n\u001b[1;32m    164\u001b[0m                 \u001b[0;32melse\u001b[0m\u001b[0;34m:\u001b[0m\u001b[0;34m\u001b[0m\u001b[0;34m\u001b[0m\u001b[0m\n\u001b[0;32m--> 165\u001b[0;31m                     \u001b[0;32mreturn\u001b[0m \u001b[0mcls\u001b[0m\u001b[0;34m.\u001b[0m\u001b[0mfrom_sequence\u001b[0m\u001b[0;34m(\u001b[0m\u001b[0mseq\u001b[0m\u001b[0;34m)\u001b[0m\u001b[0;34m\u001b[0m\u001b[0;34m\u001b[0m\u001b[0m\n\u001b[0m\u001b[1;32m    166\u001b[0m \u001b[0;34m\u001b[0m\u001b[0m\n",
                        "\u001b[0;32m/opt/conda/envs/Python36/lib/python3.6/site-packages/geopy/point.py\u001b[0m in \u001b[0;36mfrom_sequence\u001b[0;34m(cls, seq)\u001b[0m\n\u001b[1;32m    404\u001b[0m                              'must not have more than 3 items.')\n\u001b[0;32m--> 405\u001b[0;31m         \u001b[0;32mreturn\u001b[0m \u001b[0mcls\u001b[0m\u001b[0;34m(\u001b[0m\u001b[0;34m*\u001b[0m\u001b[0margs\u001b[0m\u001b[0;34m)\u001b[0m\u001b[0;34m\u001b[0m\u001b[0;34m\u001b[0m\u001b[0m\n\u001b[0m\u001b[1;32m    406\u001b[0m \u001b[0;34m\u001b[0m\u001b[0m\n",
                        "\u001b[0;32m/opt/conda/envs/Python36/lib/python3.6/site-packages/geopy/point.py\u001b[0m in \u001b[0;36m__new__\u001b[0;34m(cls, latitude, longitude, altitude)\u001b[0m\n\u001b[1;32m    155\u001b[0m             \u001b[0;32melif\u001b[0m \u001b[0misinstance\u001b[0m\u001b[0;34m(\u001b[0m\u001b[0marg\u001b[0m\u001b[0;34m,\u001b[0m \u001b[0mstring_compare\u001b[0m\u001b[0;34m)\u001b[0m\u001b[0;34m:\u001b[0m\u001b[0;34m\u001b[0m\u001b[0;34m\u001b[0m\u001b[0m\n\u001b[0;32m--> 156\u001b[0;31m                 \u001b[0;32mreturn\u001b[0m \u001b[0mcls\u001b[0m\u001b[0;34m.\u001b[0m\u001b[0mfrom_string\u001b[0m\u001b[0;34m(\u001b[0m\u001b[0marg\u001b[0m\u001b[0;34m)\u001b[0m\u001b[0;34m\u001b[0m\u001b[0;34m\u001b[0m\u001b[0m\n\u001b[0m\u001b[1;32m    157\u001b[0m             \u001b[0;32melse\u001b[0m\u001b[0;34m:\u001b[0m\u001b[0;34m\u001b[0m\u001b[0;34m\u001b[0m\u001b[0m\n",
                        "\u001b[0;32m/opt/conda/envs/Python36/lib/python3.6/site-packages/geopy/point.py\u001b[0m in \u001b[0;36mfrom_string\u001b[0;34m(cls, string)\u001b[0m\n\u001b[1;32m    390\u001b[0m             raise ValueError(\n\u001b[0;32m--> 391\u001b[0;31m                 \u001b[0;34m\"Failed to create Point instance from string: unknown format.\"\u001b[0m\u001b[0;34m\u001b[0m\u001b[0;34m\u001b[0m\u001b[0m\n\u001b[0m\u001b[1;32m    392\u001b[0m             )\n",
                        "\u001b[0;31mValueError\u001b[0m: Failed to create Point instance from string: unknown format.",
                        "\nDuring handling of the above exception, another exception occurred:\n",
                        "\u001b[0;31mValueError\u001b[0m                                Traceback (most recent call last)",
                        "\u001b[0;32m<ipython-input-25-bdd7d266e373>\u001b[0m in \u001b[0;36m<module>\u001b[0;34m\u001b[0m\n\u001b[1;32m      1\u001b[0m \u001b[0mdf\u001b[0m\u001b[0;34m[\u001b[0m\u001b[0;34m'county'\u001b[0m\u001b[0;34m]\u001b[0m \u001b[0;34m=\u001b[0m \u001b[0;34m\"\"\u001b[0m\u001b[0;34m\u001b[0m\u001b[0;34m\u001b[0m\u001b[0m\n\u001b[1;32m      2\u001b[0m \u001b[0;32mfor\u001b[0m \u001b[0ma\u001b[0m \u001b[0;32min\u001b[0m \u001b[0mzip\u001b[0m\u001b[0;34m(\u001b[0m\u001b[0mdf\u001b[0m\u001b[0;34m[\u001b[0m\u001b[0;34m'coordinates'\u001b[0m\u001b[0;34m]\u001b[0m\u001b[0;34m)\u001b[0m\u001b[0;34m:\u001b[0m\u001b[0;34m\u001b[0m\u001b[0;34m\u001b[0m\u001b[0m\n\u001b[0;32m----> 3\u001b[0;31m     \u001b[0mlocation\u001b[0m \u001b[0;34m=\u001b[0m \u001b[0mgeolocator\u001b[0m\u001b[0;34m.\u001b[0m\u001b[0mreverse\u001b[0m\u001b[0;34m(\u001b[0m\u001b[0ma\u001b[0m\u001b[0;34m,\u001b[0m\u001b[0mexactly_one\u001b[0m\u001b[0;34m=\u001b[0m\u001b[0;32mTrue\u001b[0m\u001b[0;34m)\u001b[0m\u001b[0;34m\u001b[0m\u001b[0;34m\u001b[0m\u001b[0m\n\u001b[0m\u001b[1;32m      4\u001b[0m     \u001b[0maddress\u001b[0m \u001b[0;34m=\u001b[0m \u001b[0mlocation\u001b[0m\u001b[0;34m.\u001b[0m\u001b[0mraw\u001b[0m\u001b[0;34m[\u001b[0m\u001b[0;34m'address'\u001b[0m\u001b[0;34m]\u001b[0m\u001b[0;34m\u001b[0m\u001b[0;34m\u001b[0m\u001b[0m\n\u001b[1;32m      5\u001b[0m     \u001b[0mdf\u001b[0m\u001b[0;34m[\u001b[0m\u001b[0;34m'county'\u001b[0m\u001b[0;34m]\u001b[0m \u001b[0;34m=\u001b[0m \u001b[0maddress\u001b[0m\u001b[0;34m.\u001b[0m\u001b[0mget\u001b[0m\u001b[0;34m(\u001b[0m\u001b[0;34m'county'\u001b[0m\u001b[0;34m,\u001b[0m \u001b[0;34m''\u001b[0m\u001b[0;34m)\u001b[0m\u001b[0;34m\u001b[0m\u001b[0;34m\u001b[0m\u001b[0m\n",
                        "\u001b[0;32m/opt/conda/envs/Python36/lib/python3.6/site-packages/geopy/geocoders/osm.py\u001b[0m in \u001b[0;36mreverse\u001b[0;34m(self, query, exactly_one, timeout, language, addressdetails)\u001b[0m\n\u001b[1;32m    354\u001b[0m             \u001b[0mlat\u001b[0m\u001b[0;34m,\u001b[0m \u001b[0mlon\u001b[0m \u001b[0;34m=\u001b[0m \u001b[0mself\u001b[0m\u001b[0;34m.\u001b[0m\u001b[0m_coerce_point_to_string\u001b[0m\u001b[0;34m(\u001b[0m\u001b[0mquery\u001b[0m\u001b[0;34m)\u001b[0m\u001b[0;34m.\u001b[0m\u001b[0msplit\u001b[0m\u001b[0;34m(\u001b[0m\u001b[0;34m','\u001b[0m\u001b[0;34m)\u001b[0m\u001b[0;34m\u001b[0m\u001b[0;34m\u001b[0m\u001b[0m\n\u001b[1;32m    355\u001b[0m         \u001b[0;32mexcept\u001b[0m \u001b[0mValueError\u001b[0m\u001b[0;34m:\u001b[0m\u001b[0;34m\u001b[0m\u001b[0;34m\u001b[0m\u001b[0m\n\u001b[0;32m--> 356\u001b[0;31m             \u001b[0;32mraise\u001b[0m \u001b[0mValueError\u001b[0m\u001b[0;34m(\u001b[0m\u001b[0;34m\"Must be a coordinate pair or Point\"\u001b[0m\u001b[0;34m)\u001b[0m\u001b[0;34m\u001b[0m\u001b[0;34m\u001b[0m\u001b[0m\n\u001b[0m\u001b[1;32m    357\u001b[0m         params = {\n\u001b[1;32m    358\u001b[0m             \u001b[0;34m'lat'\u001b[0m\u001b[0;34m:\u001b[0m \u001b[0mlat\u001b[0m\u001b[0;34m,\u001b[0m\u001b[0;34m\u001b[0m\u001b[0;34m\u001b[0m\u001b[0m\n",
                        "\u001b[0;31mValueError\u001b[0m: Must be a coordinate pair or Point"
                    ]
                }
            ],
            "source": "df['county'] = \"\"\nfor a in zip(df['coordinates']):\n    location = geolocator.reverse(a,exactly_one=True)\n    address = location.raw['address'] \n    df['county'] = address.get('county', '')"
        },
        {
            "cell_type": "code",
            "execution_count": 26,
            "metadata": {},
            "outputs": [
                {
                    "name": "stdout",
                    "output_type": "stream",
                    "text": "Seattle\n{'place_id': 124400942, 'licence': 'Data \u00a9 OpenStreetMap contributors, ODbL 1.0. https://osm.org/copyright', 'osm_type': 'way', 'osm_id': 165758398, 'lat': '47.6669773', 'lon': '-122.37584739878048', 'display_name': \"O'Reilly Auto Parts, 5220, 15th Avenue Northwest, Ballard, Seattle, King County, Washington, 98107, United States of America\", 'address': {'shop': \"O'Reilly Auto Parts\", 'house_number': '5220', 'road': '15th Avenue Northwest', 'suburb': 'Ballard', 'city': 'Seattle', 'county': 'King County', 'state': 'Washington', 'postcode': '98107', 'country': 'United States of America', 'country_code': 'us'}, 'boundingbox': ['47.6668792', '47.667076', '-122.3760399', '-122.3756545']}\n"
                }
            ],
            "source": "cod=47.66716211,-122.3762169\nlocation = geolocator.reverse(cod,exactly_one=True)\naddress = location.raw['address']\ncity = address.get('city', '')\nprint(city)\nprint(location.raw)"
        },
        {
            "cell_type": "code",
            "execution_count": 27,
            "metadata": {},
            "outputs": [],
            "source": "df['county'] = \"King County\"\ndf['Location1'] =\"Seattle\""
        },
        {
            "cell_type": "code",
            "execution_count": 28,
            "metadata": {},
            "outputs": [
                {
                    "data": {
                        "text/html": "<div>\n<style scoped>\n    .dataframe tbody tr th:only-of-type {\n        vertical-align: middle;\n    }\n\n    .dataframe tbody tr th {\n        vertical-align: top;\n    }\n\n    .dataframe thead th {\n        text-align: right;\n    }\n</style>\n<table border=\"1\" class=\"dataframe\">\n  <thead>\n    <tr style=\"text-align: right;\">\n      <th></th>\n      <th>SEVERITYCODE</th>\n      <th>X</th>\n      <th>Y</th>\n      <th>ADDRTYPE</th>\n      <th>LOCATION</th>\n      <th>SEVERITYDESC</th>\n      <th>COLLISIONTYPE</th>\n      <th>PERSONCOUNT</th>\n      <th>PEDCOUNT</th>\n      <th>PEDCYLCOUNT</th>\n      <th>...</th>\n      <th>SDOT_COLDESC</th>\n      <th>UNDERINFL</th>\n      <th>WEATHER</th>\n      <th>ROADCOND</th>\n      <th>LIGHTCOND</th>\n      <th>ST_COLDESC</th>\n      <th>HITPARKEDCAR</th>\n      <th>Location1</th>\n      <th>coordinates</th>\n      <th>county</th>\n    </tr>\n  </thead>\n  <tbody>\n    <tr>\n      <th>0</th>\n      <td>2</td>\n      <td>-122.323148</td>\n      <td>47.703140</td>\n      <td>Intersection</td>\n      <td>5TH AVE NE AND NE 103RD ST</td>\n      <td>Injury Collision</td>\n      <td>Angles</td>\n      <td>2</td>\n      <td>0</td>\n      <td>0</td>\n      <td>...</td>\n      <td>MOTOR VEHICLE STRUCK MOTOR VEHICLE, FRONT END ...</td>\n      <td>N</td>\n      <td>Overcast</td>\n      <td>Wet</td>\n      <td>Daylight</td>\n      <td>Entering at angle</td>\n      <td>N</td>\n      <td>Seattle</td>\n      <td>47.70314032,-122.32314840000002</td>\n      <td>King County</td>\n    </tr>\n    <tr>\n      <th>1</th>\n      <td>1</td>\n      <td>-122.347294</td>\n      <td>47.647172</td>\n      <td>Block</td>\n      <td>AURORA BR BETWEEN RAYE ST AND BRIDGE WAY N</td>\n      <td>Property Damage Only Collision</td>\n      <td>Sideswipe</td>\n      <td>2</td>\n      <td>0</td>\n      <td>0</td>\n      <td>...</td>\n      <td>MOTOR VEHICLE STRUCK MOTOR VEHICLE, LEFT SIDE ...</td>\n      <td>0</td>\n      <td>Raining</td>\n      <td>Wet</td>\n      <td>Dark - Street Lights On</td>\n      <td>From same direction - both going straight - bo...</td>\n      <td>N</td>\n      <td>Seattle</td>\n      <td>47.64717249,-122.3472943</td>\n      <td>King County</td>\n    </tr>\n    <tr>\n      <th>2</th>\n      <td>1</td>\n      <td>-122.334540</td>\n      <td>47.607871</td>\n      <td>Block</td>\n      <td>4TH AVE BETWEEN SENECA ST AND UNIVERSITY ST</td>\n      <td>Property Damage Only Collision</td>\n      <td>Parked Car</td>\n      <td>4</td>\n      <td>0</td>\n      <td>0</td>\n      <td>...</td>\n      <td>MOTOR VEHICLE STRUCK MOTOR VEHICLE, REAR END</td>\n      <td>0</td>\n      <td>Overcast</td>\n      <td>Dry</td>\n      <td>Daylight</td>\n      <td>One parked--one moving</td>\n      <td>N</td>\n      <td>Seattle</td>\n      <td>47.60787143,-122.33453999999999</td>\n      <td>King County</td>\n    </tr>\n    <tr>\n      <th>3</th>\n      <td>1</td>\n      <td>-122.334803</td>\n      <td>47.604803</td>\n      <td>Block</td>\n      <td>2ND AVE BETWEEN MARION ST AND MADISON ST</td>\n      <td>Property Damage Only Collision</td>\n      <td>Other</td>\n      <td>3</td>\n      <td>0</td>\n      <td>0</td>\n      <td>...</td>\n      <td>MOTOR VEHICLE STRUCK MOTOR VEHICLE, FRONT END ...</td>\n      <td>N</td>\n      <td>Clear</td>\n      <td>Dry</td>\n      <td>Daylight</td>\n      <td>From same direction - all others</td>\n      <td>N</td>\n      <td>Seattle</td>\n      <td>47.60480289,-122.3348033</td>\n      <td>King County</td>\n    </tr>\n    <tr>\n      <th>4</th>\n      <td>2</td>\n      <td>-122.306426</td>\n      <td>47.545739</td>\n      <td>Intersection</td>\n      <td>SWIFT AVE S AND SWIFT AV OFF RP</td>\n      <td>Injury Collision</td>\n      <td>Angles</td>\n      <td>2</td>\n      <td>0</td>\n      <td>0</td>\n      <td>...</td>\n      <td>MOTOR VEHICLE STRUCK MOTOR VEHICLE, FRONT END ...</td>\n      <td>0</td>\n      <td>Raining</td>\n      <td>Wet</td>\n      <td>Daylight</td>\n      <td>Entering at angle</td>\n      <td>N</td>\n      <td>Seattle</td>\n      <td>47.54573946,-122.3064263</td>\n      <td>King County</td>\n    </tr>\n  </tbody>\n</table>\n<p>5 rows \u00d7 22 columns</p>\n</div>",
                        "text/plain": "   SEVERITYCODE           X          Y      ADDRTYPE  \\\n0             2 -122.323148  47.703140  Intersection   \n1             1 -122.347294  47.647172         Block   \n2             1 -122.334540  47.607871         Block   \n3             1 -122.334803  47.604803         Block   \n4             2 -122.306426  47.545739  Intersection   \n\n                                      LOCATION  \\\n0                   5TH AVE NE AND NE 103RD ST   \n1   AURORA BR BETWEEN RAYE ST AND BRIDGE WAY N   \n2  4TH AVE BETWEEN SENECA ST AND UNIVERSITY ST   \n3     2ND AVE BETWEEN MARION ST AND MADISON ST   \n4              SWIFT AVE S AND SWIFT AV OFF RP   \n\n                     SEVERITYDESC COLLISIONTYPE  PERSONCOUNT  PEDCOUNT  \\\n0                Injury Collision        Angles            2         0   \n1  Property Damage Only Collision     Sideswipe            2         0   \n2  Property Damage Only Collision    Parked Car            4         0   \n3  Property Damage Only Collision         Other            3         0   \n4                Injury Collision        Angles            2         0   \n\n   PEDCYLCOUNT  ...                                       SDOT_COLDESC  \\\n0            0  ...  MOTOR VEHICLE STRUCK MOTOR VEHICLE, FRONT END ...   \n1            0  ...  MOTOR VEHICLE STRUCK MOTOR VEHICLE, LEFT SIDE ...   \n2            0  ...       MOTOR VEHICLE STRUCK MOTOR VEHICLE, REAR END   \n3            0  ...  MOTOR VEHICLE STRUCK MOTOR VEHICLE, FRONT END ...   \n4            0  ...  MOTOR VEHICLE STRUCK MOTOR VEHICLE, FRONT END ...   \n\n  UNDERINFL   WEATHER ROADCOND                LIGHTCOND  \\\n0         N  Overcast      Wet                 Daylight   \n1         0   Raining      Wet  Dark - Street Lights On   \n2         0  Overcast      Dry                 Daylight   \n3         N     Clear      Dry                 Daylight   \n4         0   Raining      Wet                 Daylight   \n\n                                          ST_COLDESC HITPARKEDCAR Location1  \\\n0                                  Entering at angle            N   Seattle   \n1  From same direction - both going straight - bo...            N   Seattle   \n2                             One parked--one moving            N   Seattle   \n3                   From same direction - all others            N   Seattle   \n4                                  Entering at angle            N   Seattle   \n\n                       coordinates       county  \n0  47.70314032,-122.32314840000002  King County  \n1         47.64717249,-122.3472943  King County  \n2  47.60787143,-122.33453999999999  King County  \n3         47.60480289,-122.3348033  King County  \n4         47.54573946,-122.3064263  King County  \n\n[5 rows x 22 columns]"
                    },
                    "execution_count": 28,
                    "metadata": {},
                    "output_type": "execute_result"
                }
            ],
            "source": "df.head()"
        },
        {
            "cell_type": "code",
            "execution_count": 44,
            "metadata": {},
            "outputs": [],
            "source": "df['INCDTTM'] = pd.to_datetime(df['INCDTTM'])\ndf['dayofweek'] = df['INCDTTM'].dt.dayofweek"
        },
        {
            "cell_type": "code",
            "execution_count": 45,
            "metadata": {},
            "outputs": [],
            "source": "df['dayofweek'] = np.where((df.dayofweek == '0.0'),'Monday',df.dayofweek)"
        },
        {
            "cell_type": "code",
            "execution_count": 46,
            "metadata": {},
            "outputs": [],
            "source": "df['dayofweek'] = np.where((df.dayofweek == '1.0'),'Tuesday',df.dayofweek)\ndf['dayofweek'] = np.where((df.dayofweek == '2.0'),'Wednesday',df.dayofweek)\ndf['dayofweek'] = np.where((df.dayofweek == '3.0'),'Thursday',df.dayofweek)\ndf['dayofweek'] = np.where((df.dayofweek == '4.0'),'Friday',df.dayofweek)\ndf['dayofweek'] = np.where((df.dayofweek == '5.0'),'Saturday',df.dayofweek)\ndf['dayofweek'] = np.where((df.dayofweek == '6.0'),'Sunday',df.dayofweek)"
        },
        {
            "cell_type": "code",
            "execution_count": 47,
            "metadata": {},
            "outputs": [],
            "source": "df.drop(df[df['ROADCOND'].isnull()].index,axis = 0,inplace=True)\ndf.drop(df[df['LIGHTCOND'].isnull()].index,axis = 0,inplace=True)\ndf.drop(df[df['WEATHER'].isnull()].index,axis = 0,inplace=True)\ndf.drop(df[df['UNDERINFL'].isnull()].index,axis = 0,inplace=True)\ndf.drop(df[df['dayofweek'].isnull()].index,axis = 0,inplace=True)\ndf.drop(df[df['SEVERITYCODE'].isnull()].index,axis = 0,inplace=True)"
        },
        {
            "cell_type": "code",
            "execution_count": 48,
            "metadata": {},
            "outputs": [],
            "source": "df['UNDERINFL'] = np.where((df.UNDERINFL == 'N'),'0',df.UNDERINFL)\ndf['UNDERINFL'] = np.where((df.UNDERINFL == 'Y'),'1',df.UNDERINFL)"
        },
        {
            "cell_type": "code",
            "execution_count": 49,
            "metadata": {},
            "outputs": [],
            "source": "df.drop(df[df['WEATHER']=='Unknown'].index,axis = 0, inplace = True)\ndf.drop(df[df['WEATHER']=='Other'].index,axis = 0, inplace = True)"
        },
        {
            "cell_type": "code",
            "execution_count": 50,
            "metadata": {},
            "outputs": [],
            "source": "df.drop(df[df['ROADCOND']=='Unknown'].index,axis = 0, inplace = True)\ndf.drop(df[df['ROADCOND']=='Other'].index,axis = 0, inplace = True)"
        },
        {
            "cell_type": "code",
            "execution_count": 51,
            "metadata": {},
            "outputs": [],
            "source": "df.drop(df[df['LIGHTCOND']=='Dark - Unknown Lighting'].index,axis = 0, inplace = True)"
        },
        {
            "cell_type": "code",
            "execution_count": 52,
            "metadata": {},
            "outputs": [],
            "source": "df.drop(df[df['LIGHTCOND']=='Unknown'].index,axis = 0, inplace = True)\ndf.drop(df[df['LIGHTCOND']=='Other'].index,axis = 0, inplace = True)"
        },
        {
            "cell_type": "code",
            "execution_count": 53,
            "metadata": {},
            "outputs": [
                {
                    "data": {
                        "text/plain": "{'file_name': 'Transform-Data.csv',\n 'message': 'File saved to project storage.',\n 'bucket_name': 'corseracapstone-donotdelete-pr-xntjynexnacup6',\n 'asset_id': '453bef29-120c-47ac-be34-e1c9b8368820'}"
                    },
                    "execution_count": 53,
                    "metadata": {},
                    "output_type": "execute_result"
                }
            ],
            "source": "# The code was removed by Watson Studio for sharing."
        },
        {
            "cell_type": "code",
            "execution_count": 54,
            "metadata": {},
            "outputs": [],
            "source": "df['INCDTTM'] = pd.to_datetime(df['INCDTTM'])\ndf['dayofweek'] = df['INCDTTM'].dt.dayofweek"
        },
        {
            "cell_type": "code",
            "execution_count": 55,
            "metadata": {},
            "outputs": [
                {
                    "data": {
                        "text/html": "<div>\n<style scoped>\n    .dataframe tbody tr th:only-of-type {\n        vertical-align: middle;\n    }\n\n    .dataframe tbody tr th {\n        vertical-align: top;\n    }\n\n    .dataframe thead th {\n        text-align: right;\n    }\n</style>\n<table border=\"1\" class=\"dataframe\">\n  <thead>\n    <tr style=\"text-align: right;\">\n      <th></th>\n      <th>SEVERITYCODE</th>\n      <th>X</th>\n      <th>Y</th>\n      <th>ADDRTYPE</th>\n      <th>LOCATION</th>\n      <th>SEVERITYDESC</th>\n      <th>COLLISIONTYPE</th>\n      <th>PERSONCOUNT</th>\n      <th>PEDCOUNT</th>\n      <th>PEDCYLCOUNT</th>\n      <th>...</th>\n      <th>UNDERINFL</th>\n      <th>WEATHER</th>\n      <th>ROADCOND</th>\n      <th>LIGHTCOND</th>\n      <th>ST_COLDESC</th>\n      <th>HITPARKEDCAR</th>\n      <th>Location1</th>\n      <th>coordinates</th>\n      <th>county</th>\n      <th>dayofweek</th>\n    </tr>\n  </thead>\n  <tbody>\n    <tr>\n      <th>0</th>\n      <td>2</td>\n      <td>-122.323148</td>\n      <td>47.703140</td>\n      <td>Intersection</td>\n      <td>5TH AVE NE AND NE 103RD ST</td>\n      <td>Injury Collision</td>\n      <td>Angles</td>\n      <td>2</td>\n      <td>0</td>\n      <td>0</td>\n      <td>...</td>\n      <td>0</td>\n      <td>Overcast</td>\n      <td>1</td>\n      <td>Daylight</td>\n      <td>Entering at angle</td>\n      <td>N</td>\n      <td>Seattle</td>\n      <td>47.70314032,-122.32314840000002</td>\n      <td>King County</td>\n      <td>2</td>\n    </tr>\n    <tr>\n      <th>1</th>\n      <td>1</td>\n      <td>-122.347294</td>\n      <td>47.647172</td>\n      <td>Block</td>\n      <td>AURORA BR BETWEEN RAYE ST AND BRIDGE WAY N</td>\n      <td>Property Damage Only Collision</td>\n      <td>Sideswipe</td>\n      <td>2</td>\n      <td>0</td>\n      <td>0</td>\n      <td>...</td>\n      <td>0</td>\n      <td>Raining</td>\n      <td>1</td>\n      <td>Dark - Street Lights On</td>\n      <td>From same direction - both going straight - bo...</td>\n      <td>N</td>\n      <td>Seattle</td>\n      <td>47.64717249,-122.3472943</td>\n      <td>King County</td>\n      <td>2</td>\n    </tr>\n    <tr>\n      <th>2</th>\n      <td>1</td>\n      <td>-122.334540</td>\n      <td>47.607871</td>\n      <td>Block</td>\n      <td>4TH AVE BETWEEN SENECA ST AND UNIVERSITY ST</td>\n      <td>Property Damage Only Collision</td>\n      <td>Parked Car</td>\n      <td>4</td>\n      <td>0</td>\n      <td>0</td>\n      <td>...</td>\n      <td>0</td>\n      <td>Overcast</td>\n      <td>0</td>\n      <td>Daylight</td>\n      <td>One parked--one moving</td>\n      <td>N</td>\n      <td>Seattle</td>\n      <td>47.60787143,-122.33453999999999</td>\n      <td>King County</td>\n      <td>3</td>\n    </tr>\n    <tr>\n      <th>3</th>\n      <td>1</td>\n      <td>-122.334803</td>\n      <td>47.604803</td>\n      <td>Block</td>\n      <td>2ND AVE BETWEEN MARION ST AND MADISON ST</td>\n      <td>Property Damage Only Collision</td>\n      <td>Other</td>\n      <td>3</td>\n      <td>0</td>\n      <td>0</td>\n      <td>...</td>\n      <td>0</td>\n      <td>Clear</td>\n      <td>0</td>\n      <td>Daylight</td>\n      <td>From same direction - all others</td>\n      <td>N</td>\n      <td>Seattle</td>\n      <td>47.60480289,-122.3348033</td>\n      <td>King County</td>\n      <td>4</td>\n    </tr>\n    <tr>\n      <th>4</th>\n      <td>2</td>\n      <td>-122.306426</td>\n      <td>47.545739</td>\n      <td>Intersection</td>\n      <td>SWIFT AVE S AND SWIFT AV OFF RP</td>\n      <td>Injury Collision</td>\n      <td>Angles</td>\n      <td>2</td>\n      <td>0</td>\n      <td>0</td>\n      <td>...</td>\n      <td>0</td>\n      <td>Raining</td>\n      <td>1</td>\n      <td>Daylight</td>\n      <td>Entering at angle</td>\n      <td>N</td>\n      <td>Seattle</td>\n      <td>47.54573946,-122.3064263</td>\n      <td>King County</td>\n      <td>2</td>\n    </tr>\n  </tbody>\n</table>\n<p>5 rows \u00d7 23 columns</p>\n</div>",
                        "text/plain": "   SEVERITYCODE           X          Y      ADDRTYPE  \\\n0             2 -122.323148  47.703140  Intersection   \n1             1 -122.347294  47.647172         Block   \n2             1 -122.334540  47.607871         Block   \n3             1 -122.334803  47.604803         Block   \n4             2 -122.306426  47.545739  Intersection   \n\n                                      LOCATION  \\\n0                   5TH AVE NE AND NE 103RD ST   \n1   AURORA BR BETWEEN RAYE ST AND BRIDGE WAY N   \n2  4TH AVE BETWEEN SENECA ST AND UNIVERSITY ST   \n3     2ND AVE BETWEEN MARION ST AND MADISON ST   \n4              SWIFT AVE S AND SWIFT AV OFF RP   \n\n                     SEVERITYDESC COLLISIONTYPE  PERSONCOUNT  PEDCOUNT  \\\n0                Injury Collision        Angles            2         0   \n1  Property Damage Only Collision     Sideswipe            2         0   \n2  Property Damage Only Collision    Parked Car            4         0   \n3  Property Damage Only Collision         Other            3         0   \n4                Injury Collision        Angles            2         0   \n\n   PEDCYLCOUNT  ...  UNDERINFL   WEATHER ROADCOND                LIGHTCOND  \\\n0            0  ...          0  Overcast        1                 Daylight   \n1            0  ...          0   Raining        1  Dark - Street Lights On   \n2            0  ...          0  Overcast        0                 Daylight   \n3            0  ...          0     Clear        0                 Daylight   \n4            0  ...          0   Raining        1                 Daylight   \n\n                                          ST_COLDESC HITPARKEDCAR Location1  \\\n0                                  Entering at angle            N   Seattle   \n1  From same direction - both going straight - bo...            N   Seattle   \n2                             One parked--one moving            N   Seattle   \n3                   From same direction - all others            N   Seattle   \n4                                  Entering at angle            N   Seattle   \n\n                       coordinates       county dayofweek  \n0  47.70314032,-122.32314840000002  King County         2  \n1         47.64717249,-122.3472943  King County         2  \n2  47.60787143,-122.33453999999999  King County         3  \n3         47.60480289,-122.3348033  King County         4  \n4         47.54573946,-122.3064263  King County         2  \n\n[5 rows x 23 columns]"
                    },
                    "execution_count": 55,
                    "metadata": {},
                    "output_type": "execute_result"
                }
            ],
            "source": "df.head()"
        },
        {
            "cell_type": "code",
            "execution_count": 56,
            "metadata": {},
            "outputs": [],
            "source": "df['ROADCOND'] = np.where((df.ROADCOND == 'Dry'),0,df.ROADCOND)\ndf['ROADCOND'] = np.where((df.ROADCOND == 'Wet'),1,df.ROADCOND)\ndf['ROADCOND'] = np.where((df.ROADCOND == 'Ice'),2,df.ROADCOND)\ndf['ROADCOND'] = np.where((df.ROADCOND == 'Snow/Slush'),3,df.ROADCOND)\ndf['ROADCOND'] = np.where((df.ROADCOND == 'Standing Water'),4,df.ROADCOND)\ndf['ROADCOND'] = np.where((df.ROADCOND == 'Sand/Mud/Dirt'),5,df.ROADCOND)\ndf['ROADCOND'] = np.where((df.ROADCOND == 'Oil'),6,df.ROADCOND)"
        },
        {
            "cell_type": "code",
            "execution_count": 57,
            "metadata": {},
            "outputs": [],
            "source": "df['LIGHTCOND'] = np.where((df.LIGHTCOND == 'Daylight'),0,df.LIGHTCOND)\ndf['LIGHTCOND'] = np.where((df.LIGHTCOND == 'Dark - Street Lights On'),1,df.LIGHTCOND)\ndf['LIGHTCOND'] = np.where((df.LIGHTCOND == 'Dusk'),2,df.LIGHTCOND)\ndf['LIGHTCOND'] = np.where((df.LIGHTCOND == 'Dawn'),3,df.LIGHTCOND)\ndf['LIGHTCOND'] = np.where((df.LIGHTCOND == 'Dark - No Street Lights'),4,df.LIGHTCOND)\ndf['LIGHTCOND'] = np.where((df.LIGHTCOND == 'Dark - Street Lights Off'),4,df.LIGHTCOND)"
        },
        {
            "cell_type": "code",
            "execution_count": 58,
            "metadata": {},
            "outputs": [],
            "source": "df['WEATHER'] = np.where((df.WEATHER == 'Clear'),0,df.WEATHER)\ndf['WEATHER'] = np.where((df.WEATHER == 'Raining'),1,df.WEATHER)\ndf['WEATHER'] = np.where((df.WEATHER == 'Overcast'),2,df.WEATHER)\ndf['WEATHER'] = np.where((df.WEATHER == 'Snowing'),3,df.WEATHER)\ndf['WEATHER'] = np.where((df.WEATHER == 'Fog/Smog/Smoke'),4,df.WEATHER)\ndf['WEATHER'] = np.where((df.WEATHER == 'Sleet/Hail/Freezing Rain'),5,df.WEATHER)\ndf['WEATHER'] = np.where((df.WEATHER == 'Blowing Sand/Dirt'),6,df.WEATHER)\ndf['WEATHER'] = np.where((df.WEATHER == 'Severe Crosswind'),7,df.WEATHER)\ndf['WEATHER'] = np.where((df.WEATHER == 'Partly Cloudy'),8,df.WEATHER)"
        },
        {
            "cell_type": "code",
            "execution_count": null,
            "metadata": {},
            "outputs": [],
            "source": "project.save_data(\"Transform-Data-1.csv\", data=df.to_csv(index=False),overwrite=True)"
        },
        {
            "cell_type": "code",
            "execution_count": null,
            "metadata": {},
            "outputs": [],
            "source": ""
        }
    ],
    "metadata": {
        "kernelspec": {
            "display_name": "Python 3.6",
            "language": "python",
            "name": "python3"
        },
        "language_info": {
            "codemirror_mode": {
                "name": "ipython",
                "version": 3
            },
            "file_extension": ".py",
            "mimetype": "text/x-python",
            "name": "python",
            "nbconvert_exporter": "python",
            "pygments_lexer": "ipython3",
            "version": "3.6.9"
        }
    },
    "nbformat": 4,
    "nbformat_minor": 1
}