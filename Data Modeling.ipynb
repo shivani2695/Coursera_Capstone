{
    "cells": [
        {
            "cell_type": "code",
            "execution_count": null,
            "metadata": {},
            "outputs": [],
            "source": "# The code was removed by Watson Studio for sharing."
        },
        {
            "cell_type": "code",
            "execution_count": 1,
            "metadata": {},
            "outputs": [],
            "source": "import itertools\nimport numpy as np\nimport matplotlib.pyplot as plt\nfrom matplotlib.ticker import NullFormatter\nimport pandas as pd\nimport matplotlib.ticker as ticker\nfrom sklearn import preprocessing\n%matplotlib inline"
        },
        {
            "cell_type": "code",
            "execution_count": 2,
            "metadata": {},
            "outputs": [],
            "source": "# The code was removed by Watson Studio for sharing."
        },
        {
            "cell_type": "code",
            "execution_count": null,
            "metadata": {},
            "outputs": [],
            "source": "df.dtypes"
        },
        {
            "cell_type": "code",
            "execution_count": 3,
            "metadata": {},
            "outputs": [],
            "source": "df['INCDTTM'] = pd.to_datetime(df['INCDTTM'])"
        },
        {
            "cell_type": "code",
            "execution_count": 4,
            "metadata": {},
            "outputs": [],
            "source": "df['dayofweek'] = df['INCDTTM'].dt.dayofweek"
        },
        {
            "cell_type": "code",
            "execution_count": null,
            "metadata": {},
            "outputs": [],
            "source": "df.head()"
        },
        {
            "cell_type": "code",
            "execution_count": null,
            "metadata": {},
            "outputs": [],
            "source": "df['dayofweek'].value_counts()"
        },
        {
            "cell_type": "code",
            "execution_count": 5,
            "metadata": {},
            "outputs": [],
            "source": "df.replace(r'Unknown', np.nan, regex=True)\ndf.drop(df[df['ROADCOND'].isnull()].index,axis = 0,inplace=True)\ndf.drop(df[df['LIGHTCOND'].isnull()].index,axis = 0,inplace=True)\ndf.drop(df[df['WEATHER'].isnull()].index,axis = 0,inplace=True)\ndf.drop(df[df['UNDERINFL'].isnull()].index,axis = 0,inplace=True)\ndf.drop(df[df['dayofweek'].isnull()].index,axis = 0,inplace=True)\ndf.drop(df[df['SEVERITYCODE'].isnull()].index,axis = 0,inplace=True)"
        },
        {
            "cell_type": "code",
            "execution_count": null,
            "metadata": {},
            "outputs": [],
            "source": "print('Road conditions :- Nan',df['ROADCOND'].isnull().sum())\nprint('Light conditions :- Nan',df['LIGHTCOND'].isnull().sum())\nprint('location conditions :- Nan',df['WEATHER'].isnull().sum())\nprint('under influnce conditions :- Nan',df['UNDERINFL'].isnull().sum())\nprint('day of week conditions :- Nan',df['dayofweek'].isnull().sum())\nprint('day of week conditions :- Nan',df['SEVERITYCODE'].isnull().sum())"
        },
        {
            "cell_type": "code",
            "execution_count": 6,
            "metadata": {},
            "outputs": [],
            "source": "df.drop(df[df['ROADCOND'].isnull()].index,axis = 0,inplace=True)\ndf.drop(df[df['LIGHTCOND'].isnull()].index,axis = 0,inplace=True)\ndf.drop(df[df['WEATHER'].isnull()].index,axis = 0,inplace=True)\ndf.drop(df[df['UNDERINFL'].isnull()].index,axis = 0,inplace=True)\ndf.drop(df[df['dayofweek'].isnull()].index,axis = 0,inplace=True)\ndf.drop(df[df['SEVERITYCODE'].isnull()].index,axis = 0,inplace=True)"
        },
        {
            "cell_type": "code",
            "execution_count": 7,
            "metadata": {},
            "outputs": [],
            "source": "df['UNDERINFL'] = np.where((df.UNDERINFL == 'N'),'0',df.UNDERINFL)\ndf['UNDERINFL'] = np.where((df.UNDERINFL == 'Y'),'1',df.UNDERINFL)"
        },
        {
            "cell_type": "code",
            "execution_count": null,
            "metadata": {},
            "outputs": [],
            "source": "df.head()"
        },
        {
            "cell_type": "code",
            "execution_count": null,
            "metadata": {
                "scrolled": true
            },
            "outputs": [],
            "source": "df['LIGHTCOND'].value_counts()"
        },
        {
            "cell_type": "code",
            "execution_count": 8,
            "metadata": {},
            "outputs": [],
            "source": "df['LIGHTCOND'] = np.where((df.LIGHTCOND == 'Dark - Unknown Lighting'),'',df.LIGHTCOND)"
        },
        {
            "cell_type": "code",
            "execution_count": 9,
            "metadata": {},
            "outputs": [],
            "source": "df.drop(df[df['LIGHTCOND'].isnull()].index,axis = 0,inplace=True)"
        },
        {
            "cell_type": "code",
            "execution_count": 10,
            "metadata": {},
            "outputs": [],
            "source": "df.drop(df[df['LIGHTCOND']==''].index,axis = 0, inplace = True)"
        },
        {
            "cell_type": "code",
            "execution_count": null,
            "metadata": {},
            "outputs": [],
            "source": "df['WEATHER'].value_counts()"
        },
        {
            "cell_type": "code",
            "execution_count": 11,
            "metadata": {},
            "outputs": [],
            "source": "df.drop(df[df['WEATHER']=='Unknown'].index,axis = 0, inplace = True)\ndf.drop(df[df['WEATHER']=='Other'].index,axis = 0, inplace = True)"
        },
        {
            "cell_type": "code",
            "execution_count": null,
            "metadata": {},
            "outputs": [],
            "source": "df['ROADCOND'].value_counts()"
        },
        {
            "cell_type": "code",
            "execution_count": 12,
            "metadata": {},
            "outputs": [],
            "source": "df.drop(df[df['ROADCOND']=='Unknown'].index,axis = 0, inplace = True)\ndf.drop(df[df['ROADCOND']=='Other'].index,axis = 0, inplace = True)"
        },
        {
            "cell_type": "code",
            "execution_count": 13,
            "metadata": {},
            "outputs": [],
            "source": "df['ROADCOND'] = np.where((df.ROADCOND == 'Dry'),0,df.ROADCOND)\ndf['ROADCOND'] = np.where((df.ROADCOND == 'Wet'),1,df.ROADCOND)\ndf['ROADCOND'] = np.where((df.ROADCOND == 'Ice'),2,df.ROADCOND)\ndf['ROADCOND'] = np.where((df.ROADCOND == 'Snow/Slush'),3,df.ROADCOND)\ndf['ROADCOND'] = np.where((df.ROADCOND == 'Standing Water'),4,df.ROADCOND)\ndf['ROADCOND'] = np.where((df.ROADCOND == 'Sand/Mud/Dirt'),5,df.ROADCOND)\ndf['ROADCOND'] = np.where((df.ROADCOND == 'Oil'),6,df.ROADCOND)"
        },
        {
            "cell_type": "code",
            "execution_count": 14,
            "metadata": {},
            "outputs": [],
            "source": "df['LIGHTCOND'] = np.where((df.LIGHTCOND == 'Daylight'),0,df.LIGHTCOND)\ndf['LIGHTCOND'] = np.where((df.LIGHTCOND == 'Dark - Street Lights On'),1,df.LIGHTCOND)\ndf['LIGHTCOND'] = np.where((df.LIGHTCOND == 'Dusk'),2,df.LIGHTCOND)\ndf['LIGHTCOND'] = np.where((df.LIGHTCOND == 'Dawn'),3,df.LIGHTCOND)\ndf['LIGHTCOND'] = np.where((df.LIGHTCOND == 'Dark - No Street Lights'),4,df.LIGHTCOND)\ndf['LIGHTCOND'] = np.where((df.LIGHTCOND == 'Dark - Street Lights Off'),4,df.LIGHTCOND)"
        },
        {
            "cell_type": "code",
            "execution_count": 15,
            "metadata": {},
            "outputs": [],
            "source": "df['WEATHER'] = np.where((df.WEATHER == 'Clear'),0,df.WEATHER)\ndf['WEATHER'] = np.where((df.WEATHER == 'Raining'),1,df.WEATHER)\ndf['WEATHER'] = np.where((df.WEATHER == 'Overcast'),2,df.WEATHER)\ndf['WEATHER'] = np.where((df.WEATHER == 'Snowing'),3,df.WEATHER)\ndf['WEATHER'] = np.where((df.WEATHER == 'Fog/Smog/Smoke'),4,df.WEATHER)\ndf['WEATHER'] = np.where((df.WEATHER == 'Sleet/Hail/Freezing Rain'),5,df.WEATHER)\ndf['WEATHER'] = np.where((df.WEATHER == 'Blowing Sand/Dirt'),6,df.WEATHER)\ndf['WEATHER'] = np.where((df.WEATHER == 'Severe Crosswind'),7,df.WEATHER)\ndf['WEATHER'] = np.where((df.WEATHER == 'Partly Cloudy'),8,df.WEATHER)"
        },
        {
            "cell_type": "code",
            "execution_count": 16,
            "metadata": {},
            "outputs": [],
            "source": "df.drop(df[df['LIGHTCOND']=='Unknown'].index,axis = 0, inplace = True)\ndf.drop(df[df['LIGHTCOND']=='Other'].index,axis = 0, inplace = True)"
        },
        {
            "cell_type": "code",
            "execution_count": null,
            "metadata": {},
            "outputs": [],
            "source": "df['WEATHER'].value_counts()"
        },
        {
            "cell_type": "code",
            "execution_count": 17,
            "metadata": {},
            "outputs": [
                {
                    "name": "stderr",
                    "output_type": "stream",
                    "text": "/opt/conda/envs/Python36/lib/python3.6/site-packages/sklearn/preprocessing/data.py:645: DataConversionWarning: Data with input dtype float64, object were all converted to float64 by StandardScaler.\n  return self.partial_fit(X, y)\n/opt/conda/envs/Python36/lib/python3.6/site-packages/ipykernel/__main__.py:3: DataConversionWarning: Data with input dtype float64, object were all converted to float64 by StandardScaler.\n  app.launch_new_instance()\n"
                }
            ],
            "source": "Feature = df[['ROADCOND','LIGHTCOND','WEATHER','UNDERINFL','dayofweek']]\nX = Feature\nX= preprocessing.StandardScaler().fit(X).transform(X)\ny = df['SEVERITYCODE'].values"
        },
        {
            "cell_type": "code",
            "execution_count": 18,
            "metadata": {},
            "outputs": [
                {
                    "name": "stdout",
                    "output_type": "stream",
                    "text": "Train set: (99725, 5) (99725,)\nTest set: (66484, 5) (66484,)\n"
                }
            ],
            "source": "from sklearn.model_selection import train_test_split\nX_train, X_test, y_train, y_test = train_test_split( X, y, test_size=0.4, random_state=5)\nprint ('Train set:', X_train.shape,  y_train.shape)\nprint ('Test set:', X_test.shape,  y_test.shape)"
        },
        {
            "cell_type": "code",
            "execution_count": 19,
            "metadata": {},
            "outputs": [
                {
                    "data": {
                        "text/plain": "array([0.50505385, 0.6502918 , 0.59597798, 0.66217436, 0.60205463,\n       0.64811082, 0.63631851, 0.66354311, 0.65393177])"
                    },
                    "execution_count": 19,
                    "metadata": {},
                    "output_type": "execute_result"
                }
            ],
            "source": "from sklearn.neighbors import KNeighborsClassifier\nfrom sklearn import metrics\n\nKs=10\nmean_acc = np.zeros((Ks-1))\nstd_acc = np.zeros((Ks-1))\nConfustionMx = [];\nfor n in range(1,Ks):\n    \n    #Train Model and Predict  \n    neigh = KNeighborsClassifier(n_neighbors = n).fit(X_train,y_train)\n    yhat=neigh.predict(X_test)\n    mean_acc[n-1] = metrics.accuracy_score(y_test, yhat)\n\n    \n    std_acc[n-1]=np.std(yhat==y_test)/np.sqrt(yhat.shape[0])\n\nmean_acc"
        },
        {
            "cell_type": "code",
            "execution_count": 20,
            "metadata": {},
            "outputs": [
                {
                    "name": "stdout",
                    "output_type": "stream",
                    "text": "Train set: (59835, 5) (59835,)\nTest set: (39890, 5) (39890,)\n"
                }
            ],
            "source": "X_train1, X_test1, y_train1, y_test1 = train_test_split( X_train, y_train, test_size=0.4, random_state=5)\nprint ('Train set:', X_train1.shape,  y_train1.shape)\nprint ('Test set:', X_test1.shape,  y_test1.shape)"
        },
        {
            "cell_type": "code",
            "execution_count": 20,
            "metadata": {},
            "outputs": [
                {
                    "name": "stdout",
                    "output_type": "stream",
                    "text": "DecisionTrees's Accuracy:  0.6724926298056675\nDecisionTrees's Accuracy:  0.6724926298056675\nDecisionTrees's Accuracy:  0.6724926298056675\nDecisionTrees's Accuracy:  0.6724775885927441\nDecisionTrees's Accuracy:  0.672507671018591\nDecisionTrees's Accuracy:  0.6725377534444378\nDecisionTrees's Accuracy:  0.6724475061668973\nDecisionTrees's Accuracy:  0.6722820528247397\nDecisionTrees's Accuracy:  0.6721165994825823\n"
                }
            ],
            "source": "from sklearn.tree import DecisionTreeClassifier\nfor i in range(1,10):\n    drugTree = DecisionTreeClassifier(criterion=\"entropy\", max_depth = i)\n    drugTree.fit(X_train,y_train)\n    predTree = drugTree.predict(X_test)\n    print(\"DecisionTrees's Accuracy: \", metrics.accuracy_score(y_test, predTree))"
        },
        {
            "cell_type": "code",
            "execution_count": null,
            "metadata": {},
            "outputs": [],
            "source": "X_train2, X_test2, y_train2, y_test2 = train_test_split( X_train1, y_train1, test_size=0.3, random_state=5)\nprint ('Train set:', X_train2.shape,  y_train2.shape)\nprint ('Test set:', X_test2.shape,  y_test2.shape)"
        },
        {
            "cell_type": "code",
            "execution_count": 21,
            "metadata": {},
            "outputs": [
                {
                    "data": {
                        "text/plain": "0.6679869641514163"
                    },
                    "execution_count": 21,
                    "metadata": {},
                    "output_type": "execute_result"
                }
            ],
            "source": "from sklearn import svm\nfrom sklearn.metrics import jaccard_similarity_score\nclf1 = svm.SVC(kernel='linear')\nclf1.fit(X_train1, y_train1) \nyhat2 = clf1.predict(X_test1)\njaccard_similarity_score(y_test1, yhat2)"
        },
        {
            "cell_type": "code",
            "execution_count": 22,
            "metadata": {},
            "outputs": [
                {
                    "name": "stderr",
                    "output_type": "stream",
                    "text": "/opt/conda/envs/Python36/lib/python3.6/site-packages/sklearn/svm/base.py:196: FutureWarning: The default value of gamma will change from 'auto' to 'scale' in version 0.22 to account better for unscaled features. Set gamma explicitly to 'auto' or 'scale' to avoid this warning.\n  \"avoid this warning.\", FutureWarning)\n"
                },
                {
                    "data": {
                        "text/plain": "0.6679869641514163"
                    },
                    "execution_count": 22,
                    "metadata": {},
                    "output_type": "execute_result"
                }
            ],
            "source": "clf = svm.SVC(kernel='rbf')\nclf.fit(X_train1, y_train1) \nyhat2 = clf.predict(X_test1)\njaccard_similarity_score(y_test1, yhat2)"
        },
        {
            "cell_type": "code",
            "execution_count": null,
            "metadata": {},
            "outputs": [],
            "source": "clf1 = svm.SVC(kernel='poly')\nclf1.fit(X_train, y_train) \nyhat2 = clf1.predict(X_test)\njaccard_similarity_score(y_test, yhat2)"
        },
        {
            "cell_type": "code",
            "execution_count": 23,
            "metadata": {},
            "outputs": [],
            "source": "from sklearn.linear_model import LogisticRegression\nfrom sklearn.metrics import confusion_matrix"
        },
        {
            "cell_type": "code",
            "execution_count": 24,
            "metadata": {},
            "outputs": [
                {
                    "data": {
                        "text/plain": "0.6724926298056675"
                    },
                    "execution_count": 24,
                    "metadata": {},
                    "output_type": "execute_result"
                }
            ],
            "source": "LR = LogisticRegression(C=0.01, solver='liblinear').fit(X_train,y_train)\nyhat7 = LR.predict(X_test)\njaccard_similarity_score(y_test, yhat7)"
        },
        {
            "cell_type": "code",
            "execution_count": 25,
            "metadata": {},
            "outputs": [
                {
                    "data": {
                        "text/plain": "0.6724926298056675"
                    },
                    "execution_count": 25,
                    "metadata": {},
                    "output_type": "execute_result"
                }
            ],
            "source": "LR = LogisticRegression(C=0.02, solver='liblinear').fit(X_train,y_train)\nyhat7 = LR.predict(X_test)\njaccard_similarity_score(y_test, yhat7)"
        },
        {
            "cell_type": "code",
            "execution_count": 27,
            "metadata": {},
            "outputs": [
                {
                    "data": {
                        "text/plain": "0.6724926298056675"
                    },
                    "execution_count": 27,
                    "metadata": {},
                    "output_type": "execute_result"
                }
            ],
            "source": "LR = LogisticRegression(C=0.001, solver='liblinear').fit(X_train,y_train)\nyhat7 = LR.predict(X_test)\njaccard_similarity_score(y_test, yhat7)"
        },
        {
            "cell_type": "code",
            "execution_count": 28,
            "metadata": {},
            "outputs": [
                {
                    "data": {
                        "text/plain": "{'file_name': 'Transform-Data-1.csv',\n 'message': 'File saved to project storage.',\n 'bucket_name': 'corseracapstone-donotdelete-pr-xntjynexnacup6',\n 'asset_id': '9a4703a6-e48d-41e8-b998-62e57b3a1539'}"
                    },
                    "execution_count": 28,
                    "metadata": {},
                    "output_type": "execute_result"
                }
            ],
            "source": "# The code was removed by Watson Studio for sharing."
        },
        {
            "cell_type": "code",
            "execution_count": null,
            "metadata": {},
            "outputs": [],
            "source": ""
        }
    ],
    "metadata": {
        "kernelspec": {
            "display_name": "Python 3.6",
            "language": "python",
            "name": "python3"
        },
        "language_info": {
            "codemirror_mode": {
                "name": "ipython",
                "version": 3
            },
            "file_extension": ".py",
            "mimetype": "text/x-python",
            "name": "python",
            "nbconvert_exporter": "python",
            "pygments_lexer": "ipython3",
            "version": "3.6.9"
        }
    },
    "nbformat": 4,
    "nbformat_minor": 1
}