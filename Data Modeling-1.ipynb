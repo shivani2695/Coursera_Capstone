{
    "cells": [
        {
            "cell_type": "code",
            "execution_count": 10,
            "metadata": {},
            "outputs": [],
            "source": "# The code was removed by Watson Studio for sharing."
        },
        {
            "cell_type": "code",
            "execution_count": 1,
            "metadata": {},
            "outputs": [],
            "source": "import itertools\nimport numpy as np\nimport matplotlib.pyplot as plt\nfrom matplotlib.ticker import NullFormatter\nimport pandas as pd\nimport matplotlib.ticker as ticker\nfrom sklearn import preprocessing\n%matplotlib inline"
        },
        {
            "cell_type": "code",
            "execution_count": 2,
            "metadata": {},
            "outputs": [
                {
                    "data": {
                        "text/html": "<div>\n<style scoped>\n    .dataframe tbody tr th:only-of-type {\n        vertical-align: middle;\n    }\n\n    .dataframe tbody tr th {\n        vertical-align: top;\n    }\n\n    .dataframe thead th {\n        text-align: right;\n    }\n</style>\n<table border=\"1\" class=\"dataframe\">\n  <thead>\n    <tr style=\"text-align: right;\">\n      <th></th>\n      <th>SEVERITYCODE</th>\n      <th>X</th>\n      <th>Y</th>\n      <th>ADDRTYPE</th>\n      <th>LOCATION</th>\n      <th>SEVERITYDESC</th>\n      <th>COLLISIONTYPE</th>\n      <th>PERSONCOUNT</th>\n      <th>PEDCOUNT</th>\n      <th>PEDCYLCOUNT</th>\n      <th>...</th>\n      <th>UNDERINFL</th>\n      <th>WEATHER</th>\n      <th>ROADCOND</th>\n      <th>LIGHTCOND</th>\n      <th>ST_COLDESC</th>\n      <th>HITPARKEDCAR</th>\n      <th>Location1</th>\n      <th>coordinates</th>\n      <th>county</th>\n      <th>dayofweek</th>\n    </tr>\n  </thead>\n  <tbody>\n    <tr>\n      <th>0</th>\n      <td>2</td>\n      <td>-122.323148</td>\n      <td>47.703140</td>\n      <td>Intersection</td>\n      <td>5TH AVE NE AND NE 103RD ST</td>\n      <td>Injury Collision</td>\n      <td>Angles</td>\n      <td>2</td>\n      <td>0</td>\n      <td>0</td>\n      <td>...</td>\n      <td>0</td>\n      <td>2</td>\n      <td>1</td>\n      <td>0</td>\n      <td>Entering at angle</td>\n      <td>N</td>\n      <td>Seattle</td>\n      <td>47.70314032,-122.32314840000002</td>\n      <td>King County</td>\n      <td>2</td>\n    </tr>\n    <tr>\n      <th>1</th>\n      <td>1</td>\n      <td>-122.347294</td>\n      <td>47.647172</td>\n      <td>Block</td>\n      <td>AURORA BR BETWEEN RAYE ST AND BRIDGE WAY N</td>\n      <td>Property Damage Only Collision</td>\n      <td>Sideswipe</td>\n      <td>2</td>\n      <td>0</td>\n      <td>0</td>\n      <td>...</td>\n      <td>0</td>\n      <td>1</td>\n      <td>1</td>\n      <td>1</td>\n      <td>From same direction - both going straight - bo...</td>\n      <td>N</td>\n      <td>Seattle</td>\n      <td>47.64717249,-122.3472943</td>\n      <td>King County</td>\n      <td>2</td>\n    </tr>\n    <tr>\n      <th>2</th>\n      <td>1</td>\n      <td>-122.334540</td>\n      <td>47.607871</td>\n      <td>Block</td>\n      <td>4TH AVE BETWEEN SENECA ST AND UNIVERSITY ST</td>\n      <td>Property Damage Only Collision</td>\n      <td>Parked Car</td>\n      <td>4</td>\n      <td>0</td>\n      <td>0</td>\n      <td>...</td>\n      <td>0</td>\n      <td>2</td>\n      <td>0</td>\n      <td>0</td>\n      <td>One parked--one moving</td>\n      <td>N</td>\n      <td>Seattle</td>\n      <td>47.60787143,-122.33453999999999</td>\n      <td>King County</td>\n      <td>3</td>\n    </tr>\n    <tr>\n      <th>3</th>\n      <td>1</td>\n      <td>-122.334803</td>\n      <td>47.604803</td>\n      <td>Block</td>\n      <td>2ND AVE BETWEEN MARION ST AND MADISON ST</td>\n      <td>Property Damage Only Collision</td>\n      <td>Other</td>\n      <td>3</td>\n      <td>0</td>\n      <td>0</td>\n      <td>...</td>\n      <td>0</td>\n      <td>0</td>\n      <td>0</td>\n      <td>0</td>\n      <td>From same direction - all others</td>\n      <td>N</td>\n      <td>Seattle</td>\n      <td>47.60480289,-122.3348033</td>\n      <td>King County</td>\n      <td>4</td>\n    </tr>\n    <tr>\n      <th>4</th>\n      <td>2</td>\n      <td>-122.306426</td>\n      <td>47.545739</td>\n      <td>Intersection</td>\n      <td>SWIFT AVE S AND SWIFT AV OFF RP</td>\n      <td>Injury Collision</td>\n      <td>Angles</td>\n      <td>2</td>\n      <td>0</td>\n      <td>0</td>\n      <td>...</td>\n      <td>0</td>\n      <td>1</td>\n      <td>1</td>\n      <td>0</td>\n      <td>Entering at angle</td>\n      <td>N</td>\n      <td>Seattle</td>\n      <td>47.54573946,-122.3064263</td>\n      <td>King County</td>\n      <td>2</td>\n    </tr>\n  </tbody>\n</table>\n<p>5 rows \u00d7 23 columns</p>\n</div>",
                        "text/plain": "   SEVERITYCODE           X          Y      ADDRTYPE  \\\n0             2 -122.323148  47.703140  Intersection   \n1             1 -122.347294  47.647172         Block   \n2             1 -122.334540  47.607871         Block   \n3             1 -122.334803  47.604803         Block   \n4             2 -122.306426  47.545739  Intersection   \n\n                                      LOCATION  \\\n0                   5TH AVE NE AND NE 103RD ST   \n1   AURORA BR BETWEEN RAYE ST AND BRIDGE WAY N   \n2  4TH AVE BETWEEN SENECA ST AND UNIVERSITY ST   \n3     2ND AVE BETWEEN MARION ST AND MADISON ST   \n4              SWIFT AVE S AND SWIFT AV OFF RP   \n\n                     SEVERITYDESC COLLISIONTYPE  PERSONCOUNT  PEDCOUNT  \\\n0                Injury Collision        Angles            2         0   \n1  Property Damage Only Collision     Sideswipe            2         0   \n2  Property Damage Only Collision    Parked Car            4         0   \n3  Property Damage Only Collision         Other            3         0   \n4                Injury Collision        Angles            2         0   \n\n   PEDCYLCOUNT  ...  UNDERINFL WEATHER ROADCOND  LIGHTCOND  \\\n0            0  ...          0       2        1          0   \n1            0  ...          0       1        1          1   \n2            0  ...          0       2        0          0   \n3            0  ...          0       0        0          0   \n4            0  ...          0       1        1          0   \n\n                                          ST_COLDESC  HITPARKEDCAR  Location1  \\\n0                                  Entering at angle             N    Seattle   \n1  From same direction - both going straight - bo...             N    Seattle   \n2                             One parked--one moving             N    Seattle   \n3                   From same direction - all others             N    Seattle   \n4                                  Entering at angle             N    Seattle   \n\n                       coordinates       county dayofweek  \n0  47.70314032,-122.32314840000002  King County         2  \n1         47.64717249,-122.3472943  King County         2  \n2  47.60787143,-122.33453999999999  King County         3  \n3         47.60480289,-122.3348033  King County         4  \n4         47.54573946,-122.3064263  King County         2  \n\n[5 rows x 23 columns]"
                    },
                    "execution_count": 2,
                    "metadata": {},
                    "output_type": "execute_result"
                }
            ],
            "source": "# The code was removed by Watson Studio for sharing."
        },
        {
            "cell_type": "code",
            "execution_count": 3,
            "metadata": {},
            "outputs": [
                {
                    "data": {
                        "text/plain": "Block           107379\nIntersection     61267\nAlley              593\nName: ADDRTYPE, dtype: int64"
                    },
                    "execution_count": 3,
                    "metadata": {},
                    "output_type": "execute_result"
                }
            ],
            "source": "df['ADDRTYPE'].value_counts()"
        },
        {
            "cell_type": "code",
            "execution_count": 4,
            "metadata": {},
            "outputs": [],
            "source": "df.drop(df[df['ADDRTYPE']=='Alley'].index,axis = 0, inplace = True)"
        },
        {
            "cell_type": "code",
            "execution_count": 9,
            "metadata": {},
            "outputs": [
                {
                    "data": {
                        "text/plain": "4    28067\n3    25510\n2    24960\n1    24744\n5    23834\n0    22640\n6    18891\nName: dayofweek, dtype: int64"
                    },
                    "execution_count": 9,
                    "metadata": {},
                    "output_type": "execute_result"
                }
            ],
            "source": "df['dayofweek'].value_counts()"
        },
        {
            "cell_type": "code",
            "execution_count": 11,
            "metadata": {},
            "outputs": [
                {
                    "data": {
                        "text/plain": "{'file_name': 'Transform-Data-1.csv',\n 'message': 'File saved to project storage.',\n 'bucket_name': 'corseracapstone-donotdelete-pr-xntjynexnacup6',\n 'asset_id': '9a4703a6-e48d-41e8-b998-62e57b3a1539'}"
                    },
                    "execution_count": 11,
                    "metadata": {},
                    "output_type": "execute_result"
                }
            ],
            "source": "project.save_data(\"Transform-Data-1.csv\", data=df.to_csv(index=False),overwrite=True)"
        },
        {
            "cell_type": "code",
            "execution_count": 12,
            "metadata": {},
            "outputs": [],
            "source": "from sklearn.utils import resample"
        },
        {
            "cell_type": "markdown",
            "metadata": {},
            "source": "as we have more data for severity code -1 where it is Property Damage Only Collision we need to down size it so that a bais is not created"
        },
        {
            "cell_type": "code",
            "execution_count": 14,
            "metadata": {},
            "outputs": [
                {
                    "data": {
                        "text/plain": "2    55462\n1    55462\nName: SEVERITYCODE, dtype: int64"
                    },
                    "execution_count": 14,
                    "metadata": {},
                    "output_type": "execute_result"
                }
            ],
            "source": "df_maj = df[df.SEVERITYCODE == 1]\ndf_min = df[df.SEVERITYCODE == 2]\n\ndf_maj_dsample = resample(df_maj, replace = False, n_samples = 55462, random_state = 100)\n\nbalanced_df = pd.concat([df_maj_dsample, df_min])\n\nbalanced_df.SEVERITYCODE.value_counts()"
        },
        {
            "cell_type": "code",
            "execution_count": 15,
            "metadata": {},
            "outputs": [
                {
                    "data": {
                        "text/plain": "{'file_name': 'Balanced-Data.csv',\n 'message': 'File saved to project storage.',\n 'bucket_name': 'corseracapstone-donotdelete-pr-xntjynexnacup6',\n 'asset_id': 'add379b7-8660-4ea7-b59f-de1429bfad51'}"
                    },
                    "execution_count": 15,
                    "metadata": {},
                    "output_type": "execute_result"
                }
            ],
            "source": "project.save_data(\"Balanced-Data.csv\", data=balanced_df.to_csv(index=False),overwrite=True)"
        },
        {
            "cell_type": "code",
            "execution_count": 16,
            "metadata": {},
            "outputs": [
                {
                    "data": {
                        "text/html": "<div>\n<style scoped>\n    .dataframe tbody tr th:only-of-type {\n        vertical-align: middle;\n    }\n\n    .dataframe tbody tr th {\n        vertical-align: top;\n    }\n\n    .dataframe thead th {\n        text-align: right;\n    }\n</style>\n<table border=\"1\" class=\"dataframe\">\n  <thead>\n    <tr style=\"text-align: right;\">\n      <th></th>\n      <th>SEVERITYCODE</th>\n      <th>X</th>\n      <th>Y</th>\n      <th>ADDRTYPE</th>\n      <th>LOCATION</th>\n      <th>SEVERITYDESC</th>\n      <th>COLLISIONTYPE</th>\n      <th>PERSONCOUNT</th>\n      <th>PEDCOUNT</th>\n      <th>PEDCYLCOUNT</th>\n      <th>...</th>\n      <th>UNDERINFL</th>\n      <th>WEATHER</th>\n      <th>ROADCOND</th>\n      <th>LIGHTCOND</th>\n      <th>ST_COLDESC</th>\n      <th>HITPARKEDCAR</th>\n      <th>Location1</th>\n      <th>coordinates</th>\n      <th>county</th>\n      <th>dayofweek</th>\n    </tr>\n  </thead>\n  <tbody>\n    <tr>\n      <th>150737</th>\n      <td>1</td>\n      <td>-122.318762</td>\n      <td>47.605200</td>\n      <td>Block</td>\n      <td>E TERRACE ST BETWEEN 10TH AVE AND 11TH AVE</td>\n      <td>Property Damage Only Collision</td>\n      <td>Parked Car</td>\n      <td>4</td>\n      <td>0</td>\n      <td>0</td>\n      <td>...</td>\n      <td>0</td>\n      <td>3</td>\n      <td>3</td>\n      <td>1</td>\n      <td>One parked--one moving</td>\n      <td>Y</td>\n      <td>Seattle</td>\n      <td>47.60520035,-122.31876240000001</td>\n      <td>King County</td>\n      <td>6</td>\n    </tr>\n    <tr>\n      <th>123570</th>\n      <td>1</td>\n      <td>-122.308901</td>\n      <td>47.664872</td>\n      <td>Block</td>\n      <td>NE 50TH ST BETWEEN 17TH NB AVE NE AND 18TH AVE NE</td>\n      <td>Property Damage Only Collision</td>\n      <td>Rear Ended</td>\n      <td>0</td>\n      <td>0</td>\n      <td>0</td>\n      <td>...</td>\n      <td>0</td>\n      <td>1</td>\n      <td>1</td>\n      <td>1</td>\n      <td>From same direction - both going straight - on...</td>\n      <td>N</td>\n      <td>Seattle</td>\n      <td>47.66487154,-122.3089014</td>\n      <td>King County</td>\n      <td>4</td>\n    </tr>\n    <tr>\n      <th>41172</th>\n      <td>1</td>\n      <td>-122.349424</td>\n      <td>47.555695</td>\n      <td>Block</td>\n      <td>WEST MARGINAL WAY SW BETWEEN PUGET WAY SW AND ...</td>\n      <td>Property Damage Only Collision</td>\n      <td>Other</td>\n      <td>1</td>\n      <td>0</td>\n      <td>0</td>\n      <td>...</td>\n      <td>0</td>\n      <td>1</td>\n      <td>0</td>\n      <td>1</td>\n      <td>Fixed object</td>\n      <td>N</td>\n      <td>Seattle</td>\n      <td>47.55569473,-122.34942350000001</td>\n      <td>King County</td>\n      <td>5</td>\n    </tr>\n    <tr>\n      <th>50474</th>\n      <td>1</td>\n      <td>-122.277101</td>\n      <td>47.638024</td>\n      <td>Block</td>\n      <td>43RD AVE E BETWEEN E NEWTON ST AND E LYNN ST</td>\n      <td>Property Damage Only Collision</td>\n      <td>Parked Car</td>\n      <td>2</td>\n      <td>0</td>\n      <td>0</td>\n      <td>...</td>\n      <td>0</td>\n      <td>0</td>\n      <td>0</td>\n      <td>0</td>\n      <td>One parked--one moving</td>\n      <td>N</td>\n      <td>Seattle</td>\n      <td>47.63802428,-122.27710079999999</td>\n      <td>King County</td>\n      <td>2</td>\n    </tr>\n    <tr>\n      <th>132174</th>\n      <td>1</td>\n      <td>-122.323239</td>\n      <td>47.547024</td>\n      <td>Block</td>\n      <td>S MICHIGAN ST BETWEEN 7TH AVE S AND CORSON AVE S</td>\n      <td>Property Damage Only Collision</td>\n      <td>Rear Ended</td>\n      <td>2</td>\n      <td>0</td>\n      <td>0</td>\n      <td>...</td>\n      <td>0</td>\n      <td>1</td>\n      <td>1</td>\n      <td>1</td>\n      <td>From same direction - both going straight - on...</td>\n      <td>N</td>\n      <td>Seattle</td>\n      <td>47.5470245,-122.3232392</td>\n      <td>King County</td>\n      <td>2</td>\n    </tr>\n  </tbody>\n</table>\n<p>5 rows \u00d7 23 columns</p>\n</div>",
                        "text/plain": "        SEVERITYCODE           X          Y ADDRTYPE  \\\n150737             1 -122.318762  47.605200    Block   \n123570             1 -122.308901  47.664872    Block   \n41172              1 -122.349424  47.555695    Block   \n50474              1 -122.277101  47.638024    Block   \n132174             1 -122.323239  47.547024    Block   \n\n                                                 LOCATION  \\\n150737         E TERRACE ST BETWEEN 10TH AVE AND 11TH AVE   \n123570  NE 50TH ST BETWEEN 17TH NB AVE NE AND 18TH AVE NE   \n41172   WEST MARGINAL WAY SW BETWEEN PUGET WAY SW AND ...   \n50474        43RD AVE E BETWEEN E NEWTON ST AND E LYNN ST   \n132174   S MICHIGAN ST BETWEEN 7TH AVE S AND CORSON AVE S   \n\n                          SEVERITYDESC COLLISIONTYPE  PERSONCOUNT  PEDCOUNT  \\\n150737  Property Damage Only Collision    Parked Car            4         0   \n123570  Property Damage Only Collision    Rear Ended            0         0   \n41172   Property Damage Only Collision         Other            1         0   \n50474   Property Damage Only Collision    Parked Car            2         0   \n132174  Property Damage Only Collision    Rear Ended            2         0   \n\n        PEDCYLCOUNT  ...  UNDERINFL WEATHER ROADCOND  LIGHTCOND  \\\n150737            0  ...          0       3        3          1   \n123570            0  ...          0       1        1          1   \n41172             0  ...          0       1        0          1   \n50474             0  ...          0       0        0          0   \n132174            0  ...          0       1        1          1   \n\n                                               ST_COLDESC  HITPARKEDCAR  \\\n150737                             One parked--one moving             Y   \n123570  From same direction - both going straight - on...             N   \n41172                                        Fixed object             N   \n50474                              One parked--one moving             N   \n132174  From same direction - both going straight - on...             N   \n\n        Location1                      coordinates       county dayofweek  \n150737    Seattle  47.60520035,-122.31876240000001  King County         6  \n123570    Seattle         47.66487154,-122.3089014  King County         4  \n41172     Seattle  47.55569473,-122.34942350000001  King County         5  \n50474     Seattle  47.63802428,-122.27710079999999  King County         2  \n132174    Seattle          47.5470245,-122.3232392  King County         2  \n\n[5 rows x 23 columns]"
                    },
                    "execution_count": 16,
                    "metadata": {},
                    "output_type": "execute_result"
                }
            ],
            "source": "balanced_df.head()"
        },
        {
            "cell_type": "markdown",
            "metadata": {},
            "source": "now lets creat different model and check it accuracy"
        },
        {
            "cell_type": "code",
            "execution_count": 17,
            "metadata": {},
            "outputs": [
                {
                    "name": "stderr",
                    "output_type": "stream",
                    "text": "/opt/conda/envs/Python36/lib/python3.6/site-packages/sklearn/preprocessing/data.py:645: DataConversionWarning: Data with input dtype int64 were all converted to float64 by StandardScaler.\n  return self.partial_fit(X, y)\n/opt/conda/envs/Python36/lib/python3.6/site-packages/ipykernel/__main__.py:3: DataConversionWarning: Data with input dtype int64 were all converted to float64 by StandardScaler.\n  app.launch_new_instance()\n"
                }
            ],
            "source": "Feature = balanced_df[['ROADCOND','LIGHTCOND','WEATHER','UNDERINFL','dayofweek']]\nX = Feature\nX= preprocessing.StandardScaler().fit(X).transform(X)\ny = balanced_df['SEVERITYCODE'].values\n"
        },
        {
            "cell_type": "code",
            "execution_count": 18,
            "metadata": {},
            "outputs": [
                {
                    "name": "stdout",
                    "output_type": "stream",
                    "text": "Train set: (77646, 5) (77646,)\nTest set: (33278, 5) (33278,)\n"
                }
            ],
            "source": "from sklearn.model_selection import train_test_split\nX_train, X_test, y_train, y_test = train_test_split( X, y, test_size=0.3, random_state=10)\nprint ('Train set:', X_train.shape,  y_train.shape)\nprint ('Test set:', X_test.shape,  y_test.shape)"
        },
        {
            "cell_type": "code",
            "execution_count": 19,
            "metadata": {},
            "outputs": [
                {
                    "data": {
                        "text/plain": "array([0.50588978, 0.50285474, 0.50763267, 0.50796322, 0.50739227,\n       0.50327544, 0.50204339, 0.50264439, 0.50405673, 0.50462768,\n       0.50429713, 0.50594988, 0.50844402, 0.50790312, 0.51042731,\n       0.50498828, 0.51195985, 0.50519863, 0.50964601])"
                    },
                    "execution_count": 19,
                    "metadata": {},
                    "output_type": "execute_result"
                }
            ],
            "source": "from sklearn.neighbors import KNeighborsClassifier\nfrom sklearn import metrics\n\nKs=20\nmean_acc = np.zeros((Ks-1))\nstd_acc = np.zeros((Ks-1))\nConfustionMx = [];\nfor n in range(1,Ks):\n    \n    #Train Model and Predict  \n    neigh = KNeighborsClassifier(n_neighbors = n).fit(X_train,y_train)\n    yhat=neigh.predict(X_test)\n    mean_acc[n-1] = metrics.accuracy_score(y_test, yhat)\n\n    \n    std_acc[n-1]=np.std(yhat==y_test)/np.sqrt(yhat.shape[0])\n\nmean_acc"
        },
        {
            "cell_type": "code",
            "execution_count": 20,
            "metadata": {},
            "outputs": [
                {
                    "data": {
                        "text/plain": "array([0.        , 0.        , 0.        , 0.        , 0.        ,\n       0.        , 0.        , 0.        , 0.        , 0.        ,\n       0.        , 0.        , 0.        , 0.        , 0.        ,\n       0.        , 0.        , 0.        , 0.        , 0.50628043,\n       0.50946571, 0.51111846, 0.51006671, 0.51159925, 0.51208005,\n       0.50649077, 0.50829377, 0.50907506, 0.50931546])"
                    },
                    "execution_count": 20,
                    "metadata": {},
                    "output_type": "execute_result"
                }
            ],
            "source": "from sklearn.neighbors import KNeighborsClassifier\nfrom sklearn import metrics\n\nKs=30\nmean_acc = np.zeros((Ks-1))\nstd_acc = np.zeros((Ks-1))\nConfustionMx = [];\nfor n in range(20,Ks):\n    \n    #Train Model and Predict  \n    neigh = KNeighborsClassifier(n_neighbors = n).fit(X_train,y_train)\n    yhat=neigh.predict(X_test)\n    mean_acc[n-1] = metrics.accuracy_score(y_test, yhat)\n\n    \n    std_acc[n-1]=np.std(yhat==y_test)/np.sqrt(yhat.shape[0])\n\nmean_acc"
        },
        {
            "cell_type": "markdown",
            "metadata": {},
            "source": "K nearest neighbour best fit is when n = 17 so lets train our model with n = 17"
        },
        {
            "cell_type": "code",
            "execution_count": 27,
            "metadata": {},
            "outputs": [],
            "source": "neigh = KNeighborsClassifier(n_neighbors = 17).fit(X_train,y_train)\nyhat=neigh.predict(X_test)"
        },
        {
            "cell_type": "code",
            "execution_count": 22,
            "metadata": {},
            "outputs": [
                {
                    "name": "stdout",
                    "output_type": "stream",
                    "text": "DecisionTrees's Accuracy:  0.508804615661999\nDecisionTrees's Accuracy:  0.5191417753470762\nDecisionTrees's Accuracy:  0.5197127231203799\nDecisionTrees's Accuracy:  0.5196826732375743\nDecisionTrees's Accuracy:  0.5202235711280726\nDecisionTrees's Accuracy:  0.5191718252298816\nDecisionTrees's Accuracy:  0.5202836708936835\nDecisionTrees's Accuracy:  0.5229881603461747\nDecisionTrees's Accuracy:  0.5245507542520584\nDecisionTrees's Accuracy:  0.5224472624556764\nDecisionTrees's Accuracy:  0.5225374121040928\nDecisionTrees's Accuracy:  0.5229280605805637\nDecisionTrees's Accuracy:  0.5214556163230963\nDecisionTrees's Accuracy:  0.5214856662059018\n"
                }
            ],
            "source": "from sklearn.tree import DecisionTreeClassifier\nfor i in range(1,15):\n    drugTree = DecisionTreeClassifier(criterion=\"entropy\", max_depth = i)\n    drugTree.fit(X_train,y_train)\n    predTree = drugTree.predict(X_test)\n    print(\"DecisionTrees's Accuracy: \", metrics.accuracy_score(y_test, predTree))"
        },
        {
            "cell_type": "markdown",
            "metadata": {},
            "source": "Decision tree best fit is when tree depth = 9 so lets train our decision tree model with depth =9"
        },
        {
            "cell_type": "code",
            "execution_count": 28,
            "metadata": {},
            "outputs": [
                {
                    "name": "stdout",
                    "output_type": "stream",
                    "text": "2\n1\n"
                }
            ],
            "source": "drugTree = DecisionTreeClassifier(criterion=\"entropy\", max_depth = 9)\ndrugTree.fit(X_train,y_train)\npredTree = drugTree.predict(X_test)\nprint(predTree.max())\nprint(predTree.min())"
        },
        {
            "cell_type": "code",
            "execution_count": 23,
            "metadata": {},
            "outputs": [
                {
                    "data": {
                        "text/plain": "0.5101268105054391"
                    },
                    "execution_count": 23,
                    "metadata": {},
                    "output_type": "execute_result"
                }
            ],
            "source": "from sklearn import svm\nfrom sklearn.metrics import jaccard_similarity_score\nlinear = svm.SVC(kernel='linear')\nlinear.fit(X_train, y_train) \npredlinear = linear.predict(X_test)\njaccard_similarity_score(y_test, predlinear)"
        },
        {
            "cell_type": "code",
            "execution_count": 24,
            "metadata": {},
            "outputs": [
                {
                    "name": "stderr",
                    "output_type": "stream",
                    "text": "/opt/conda/envs/Python36/lib/python3.6/site-packages/sklearn/svm/base.py:196: FutureWarning: The default value of gamma will change from 'auto' to 'scale' in version 0.22 to account better for unscaled features. Set gamma explicitly to 'auto' or 'scale' to avoid this warning.\n  \"avoid this warning.\", FutureWarning)\n"
                },
                {
                    "data": {
                        "text/plain": "0.5214856662059018"
                    },
                    "execution_count": 24,
                    "metadata": {},
                    "output_type": "execute_result"
                }
            ],
            "source": "rfb = svm.SVC(kernel='rbf')\nrfb.fit(X_train, y_train) \npredrfb = rfb.predict(X_test)\njaccard_similarity_score(y_test, predrfb)"
        },
        {
            "cell_type": "code",
            "execution_count": 25,
            "metadata": {},
            "outputs": [
                {
                    "data": {
                        "text/plain": "0.516106737183725"
                    },
                    "execution_count": 25,
                    "metadata": {},
                    "output_type": "execute_result"
                }
            ],
            "source": "from sklearn.linear_model import LogisticRegression\nfrom sklearn.metrics import confusion_matrix\nLR = LogisticRegression(C=0.01, solver='liblinear').fit(X_train,y_train)\npredLR = LR.predict(X_test)\njaccard_similarity_score(y_test, predLR)"
        },
        {
            "cell_type": "code",
            "execution_count": 26,
            "metadata": {},
            "outputs": [
                {
                    "name": "stdout",
                    "output_type": "stream",
                    "text": "Accuracy:  0.5117194542941282\n"
                }
            ],
            "source": "from sklearn.naive_bayes import GaussianNB\ngnb =GaussianNB()\ngnb.fit(X_train,y_train)\npredgn = gnb.predict(X_test)\nprint(\"Accuracy: \", metrics.accuracy_score(y_test,predgn))"
        },
        {
            "cell_type": "code",
            "execution_count": 29,
            "metadata": {},
            "outputs": [],
            "source": "from sklearn.metrics import f1_score"
        },
        {
            "cell_type": "code",
            "execution_count": 30,
            "metadata": {},
            "outputs": [
                {
                    "name": "stdout",
                    "output_type": "stream",
                    "text": "KNN - Jaccard accuracy : 0.5119598533565719\nKNN - F1-score accuracy : 0.5110853376169106\n"
                }
            ],
            "source": "print(\"KNN - Jaccard accuracy :\",jaccard_similarity_score(y_test, yhat))\nprint(\"KNN - F1-score accuracy :\",f1_score(y_test, yhat, average='weighted') )"
        },
        {
            "cell_type": "code",
            "execution_count": 31,
            "metadata": {},
            "outputs": [
                {
                    "name": "stdout",
                    "output_type": "stream",
                    "text": "Decision Tree - Jaccard accuracy : 0.5244906544864475\nDecision Tree - F1-score accuracy : 0.5201961916491737\n"
                }
            ],
            "source": "print(\"Decision Tree - Jaccard accuracy :\",jaccard_similarity_score(y_test, predTree))\nprint(\"Decision Tree - F1-score accuracy :\",f1_score(y_test, predTree, average='weighted') )"
        },
        {
            "cell_type": "code",
            "execution_count": 32,
            "metadata": {},
            "outputs": [
                {
                    "name": "stdout",
                    "output_type": "stream",
                    "text": "SVM -linear - Jaccard accuracy : 0.5101268105054391\nSVM -linear - F1-score accuracy : 0.5007023535962081\n"
                }
            ],
            "source": "print(\"SVM -linear - Jaccard accuracy :\",jaccard_similarity_score(y_test, predlinear))\nprint(\"SVM -linear - F1-score accuracy :\",f1_score(y_test, predlinear, average='weighted') )"
        },
        {
            "cell_type": "code",
            "execution_count": 33,
            "metadata": {},
            "outputs": [
                {
                    "name": "stdout",
                    "output_type": "stream",
                    "text": "logloss - Jaccard accuracy : 0.516106737183725\nlogloss - F1-score accuracy : 0.5129588256587537\n"
                }
            ],
            "source": "print(\"logloss - Jaccard accuracy :\",jaccard_similarity_score(y_test, predLR))\nprint(\"logloss - F1-score accuracy :\",f1_score(y_test, predLR, average='weighted') )"
        },
        {
            "cell_type": "code",
            "execution_count": 34,
            "metadata": {},
            "outputs": [
                {
                    "name": "stdout",
                    "output_type": "stream",
                    "text": "Naive Baise - Jaccard accuracy : 0.5117194542941282\nNaive Baise - F1-score accuracy : 0.46040773168160287\n"
                }
            ],
            "source": "print(\"Naive Baise - Jaccard accuracy :\",jaccard_similarity_score(y_test, predgn))\nprint(\"Naive Baise - F1-score accuracy :\",f1_score(y_test, predgn, average='weighted') )"
        },
        {
            "cell_type": "code",
            "execution_count": 35,
            "metadata": {},
            "outputs": [],
            "source": "dfpred=pd.DataFrame()"
        },
        {
            "cell_type": "code",
            "execution_count": 36,
            "metadata": {},
            "outputs": [],
            "source": "dfpred['Algorithm']=['KNN','Decision Tree','SVM','LogLoss','Naive Baise']\ndfpred['Jaccard Accuracy']=[0.5119598533565719,0.5244906544864475,0.5101268105054391,0.516106737183725,0.5117194542941282]\ndfpred['F1-score']=[0.5110853376169106,0.5201961916491737,0.5007023535962081,0.5129588256587537,0.46040773168160287]"
        },
        {
            "cell_type": "code",
            "execution_count": 37,
            "metadata": {},
            "outputs": [],
            "source": "dfpred=dfpred.set_index(\"Algorithm\")"
        },
        {
            "cell_type": "code",
            "execution_count": 38,
            "metadata": {},
            "outputs": [
                {
                    "data": {
                        "text/html": "<div>\n<style scoped>\n    .dataframe tbody tr th:only-of-type {\n        vertical-align: middle;\n    }\n\n    .dataframe tbody tr th {\n        vertical-align: top;\n    }\n\n    .dataframe thead th {\n        text-align: right;\n    }\n</style>\n<table border=\"1\" class=\"dataframe\">\n  <thead>\n    <tr style=\"text-align: right;\">\n      <th></th>\n      <th>Jaccard Accuracy</th>\n      <th>F1-score</th>\n    </tr>\n    <tr>\n      <th>Algorithm</th>\n      <th></th>\n      <th></th>\n    </tr>\n  </thead>\n  <tbody>\n    <tr>\n      <th>KNN</th>\n      <td>0.511960</td>\n      <td>0.511085</td>\n    </tr>\n    <tr>\n      <th>Decision Tree</th>\n      <td>0.524491</td>\n      <td>0.520196</td>\n    </tr>\n    <tr>\n      <th>SVM</th>\n      <td>0.510127</td>\n      <td>0.500702</td>\n    </tr>\n    <tr>\n      <th>LogLoss</th>\n      <td>0.516107</td>\n      <td>0.512959</td>\n    </tr>\n    <tr>\n      <th>Naive Baise</th>\n      <td>0.511719</td>\n      <td>0.460408</td>\n    </tr>\n  </tbody>\n</table>\n</div>",
                        "text/plain": "               Jaccard Accuracy  F1-score\nAlgorithm                                \nKNN                    0.511960  0.511085\nDecision Tree          0.524491  0.520196\nSVM                    0.510127  0.500702\nLogLoss                0.516107  0.512959\nNaive Baise            0.511719  0.460408"
                    },
                    "execution_count": 38,
                    "metadata": {},
                    "output_type": "execute_result"
                }
            ],
            "source": "dfpred.head()"
        },
        {
            "cell_type": "code",
            "execution_count": 39,
            "metadata": {},
            "outputs": [
                {
                    "data": {
                        "text/plain": "<matplotlib.axes._subplots.AxesSubplot at 0x7f28c6f7ad30>"
                    },
                    "execution_count": 39,
                    "metadata": {},
                    "output_type": "execute_result"
                },
                {
                    "data": {
                        "image/png": "[encoded data removed]",
                        "text/plain": "<Figure size 432x288 with 1 Axes>"
                    },
                    "metadata": {
                        "needs_background": "light"
                    },
                    "output_type": "display_data"
                }
            ],
            "source": "dfpred.plot()"
        },
        {
            "cell_type": "markdown",
            "metadata": {},
            "source": "as we can see we are getting best accuracy with decision tree so we will use Decision tree for traing our model and deploying it through Flask API\nI have created different notebooks for Data Cleaning/Transformation, Data Visualization,Data Modeling so Please have a look at that as well"
        }
    ],
    "metadata": {
        "kernelspec": {
            "display_name": "Python 3.6",
            "language": "python",
            "name": "python3"
        },
        "language_info": {
            "codemirror_mode": {
                "name": "ipython",
                "version": 3
            },
            "file_extension": ".py",
            "mimetype": "text/x-python",
            "name": "python",
            "nbconvert_exporter": "python",
            "pygments_lexer": "ipython3",
            "version": "3.6.9"
        }
    },
    "nbformat": 4,
    "nbformat_minor": 1
}